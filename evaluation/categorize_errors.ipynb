{
 "cells": [
  {
   "metadata": {
    "ExecuteTime": {
     "end_time": "2024-04-07T06:59:46.851724Z",
     "start_time": "2024-04-07T06:59:46.848273Z"
    }
   },
   "cell_type": "code",
   "source": [
    "from evaluate_output import MetaAnalysisTaskEvaluator\n",
    "import utils\n",
    "from collections import defaultdict\n",
    "from typing import Dict\n",
    "import yaml"
   ],
   "id": "67c0d4081e357358",
   "outputs": [],
   "execution_count": 137
  },
  {
   "metadata": {
    "ExecuteTime": {
     "end_time": "2024-04-07T06:59:46.870471Z",
     "start_time": "2024-04-07T06:59:46.856770Z"
    }
   },
   "cell_type": "code",
   "source": [
    "def categorize_outcome_type(evaluator: MetaAnalysisTaskEvaluator) -> Dict:\n",
    "    \"\"\"\n",
    "    Categorizes the errors in the outcome type task\n",
    "    Categories:\n",
    "        1. Model outputs in an undesirable format\n",
    "        2. Model outputs binary when its continuous\n",
    "        3. Model outputs continuous when its binary\n",
    "        4. Model outputs unknown when the reference is known\n",
    "    \n",
    "    Args:\n",
    "        evaluator: MetaAnalysisTaskEvaluator object\n",
    "    \n",
    "    Returns:\n",
    "        Dict: A dictionary containing the error categories and the record ids that fall into each category\n",
    "    \"\"\"\n",
    "    \n",
    "    def is_badly_formatted_output(output: str) -> bool:\n",
    "        return output not in [\"A\", \"B\", \"C\"]\n",
    "    \n",
    "    errors = defaultdict(list)\n",
    "    character_to_string_mapping = {\"A\": \"binary\", \"B\": \"continuous\", \"C\": \"x\"}\n",
    "    for record in evaluator.data:\n",
    "        \n",
    "        # Clean the output in the same way from `evaluate_output.py`\n",
    "        output = record['output'].replace(\"The answer is \", \"\").replace(\".\", \"\").replace(\"(\", \"\").replace(\")\",\"\")\n",
    "        for char in output:\n",
    "            if not char.isspace():\n",
    "                output = char\n",
    "                break\n",
    "                \n",
    "        # Check for badly formatted outputs\n",
    "        if is_badly_formatted_output(output):\n",
    "            errors[\"badly_formatted_output\"].append(record['id'])\n",
    "            \n",
    "        # Check for unknown when reference is known\n",
    "        elif output == \"C\" and record['outcome_type'] != \"\":\n",
    "            errors[\"unknown_when_reference_known\"].append(record['id'])\n",
    "        \n",
    "        # Check for binary when continuous\n",
    "        elif output == \"B\" and record['outcome_type'] == \"binary\":\n",
    "            errors[\"binary_when_continuous\"].append(record['id'])\n",
    "            \n",
    "        # Check for continuous when binary\n",
    "        elif output == \"A\" and record['outcome_type'] == \"continuous\":\n",
    "            errors[\"continuous_when_binary\"].append(record['id'])\n",
    "            \n",
    "    return errors\n",
    "\n",
    "def categorize_outcomes(evaluator: MetaAnalysisTaskEvaluator, outcome_type: str) -> Dict:\n",
    "    \"\"\"\n",
    "    Categorizes the errors in the binary outcomes task\n",
    "    Categories:\n",
    "        1. Model outputs in an undesirable format\n",
    "        2. Model has output but reference is unknown\n",
    "        3. Model outputs unknown but reference is known\n",
    "        4. Reference is and output is known but model outputs incorrect value\n",
    "        \n",
    "    Args:\n",
    "        evaluator: MetaAnalysisTaskEvaluator object\n",
    "        outcome_type: The outcome type of the task\n",
    "        \n",
    "    Returns:\n",
    "        Dict: A dictionary containing the error categories and the record ids that fall into each category\n",
    "    \"\"\"\n",
    "    \n",
    "    errors = defaultdict(list)\n",
    "    \n",
    "    # Define the reference keys and output keys based on the outcome type\n",
    "    if outcome_type == 'binary':\n",
    "        reference_keys = [\"intervention_events\", \"intervention_group_size\", \"comparator_events\", \"comparator_group_size\"]\n",
    "        output_keys = [f'{category}_output' for category in reference_keys]\n",
    "    elif outcome_type == 'continuous':\n",
    "        reference_keys = ['intervention_mean', 'intervention_standard_deviation', 'intervention_group_size', 'comparator_mean', 'comparator_standard_deviation', 'comparator_group_size']\n",
    "        output_keys = [f'{category}_output' for category in reference_keys]\n",
    "    else:\n",
    "        raise ValueError(\"Invalid outcome type\")\n",
    "    \n",
    "    for record in evaluator.data:\n",
    "        # Check for badly formatted outputs\n",
    "        try:\n",
    "            _ = yaml.safe_load(utils.clean_yaml_output(record['output']))\n",
    "        except:\n",
    "            errors[\"badly_formatted_output\"].append(record['id'])\n",
    "            continue\n",
    "            \n",
    "        # Check for output but reference is unknown\n",
    "        for reference_key, output_key in zip(reference_keys, output_keys):\n",
    "            if record[reference_key] == \"x\" and record[output_key] != \"x\":\n",
    "                # Check if the record is already in the list\n",
    "                if record['id'] not in errors[\"known_output_but_reference_unknown\"]:\n",
    "                    errors[\"known_output_but_reference_unknown\"].append(record['id'])\n",
    "                \n",
    "            \n",
    "            # Check for unknown output but reference is known\n",
    "            if record[reference_key] != \"x\" and record[output_key] == \"x\":\n",
    "                # Check if the record is already in the list\n",
    "                if record['id'] not in errors[\"unknown_output_but_reference_known\"]:\n",
    "                    errors[\"unknown_output_but_reference_known\"].append(record['id'])\n",
    "                \n",
    "                \n",
    "            # Check for incorrect answer\n",
    "            if record[reference_key] != \"x\" and record[output_key] != \"x\":\n",
    "                if record[reference_key] != record[output_key]:\n",
    "                    # Check if the record is already in the list\n",
    "                    if record['id'] not in errors[\"incorrect_output\"]:\n",
    "                        errors[\"incorrect_output\"].append(record['id'])\n",
    "                        \n",
    "    return errors"
   ],
   "id": "423a6f3a134ac5cc",
   "outputs": [],
   "execution_count": 138
  },
  {
   "metadata": {
    "ExecuteTime": {
     "end_time": "2024-04-07T06:59:46.889409Z",
     "start_time": "2024-04-07T06:59:46.872665Z"
    }
   },
   "cell_type": "code",
   "source": [
    "evaluator = MetaAnalysisTaskEvaluator('outcome_type', 'outputs/outcome_type/olmo7B_outcome_type_test_output_20240326-12:06:30.json', 'metrics/outcome_type/', None)\n",
    "evaluator.run_evaluation()"
   ],
   "id": "f7c1db8ba0aa5402",
   "outputs": [
    {
     "name": "stdout",
     "output_type": "stream",
     "text": [
      "Metrics for the task:\n",
      "{\n",
      "    \"number_of_model_unknowns\": {\n",
      "        \"outcome_type\": 5,\n",
      "        \"total\": 5\n",
      "    },\n",
      "    \"number_of_reference_unknowns\": {\n",
      "        \"outcome_type\": 0,\n",
      "        \"total\": 0\n",
      "    },\n",
      "    \"exact_match_accuracy\": {\n",
      "        \"outcome_type\": 0.2896341463414634,\n",
      "        \"total\": 0.2896341463414634\n",
      "    },\n",
      "    \"partial_match_accuracy\": {\n",
      "        \"partial_match_accuracy_1\": 0.2896341463414634\n",
      "    },\n",
      "    \"outcome_type_f_score\": {\n",
      "        \"outcome_type\": {\n",
      "            \"f1_score_binary\": 0.4239401496259351,\n",
      "            \"f1_score_continuous\": 0.0792079207920792,\n",
      "            \"f1_score_unknown\": 0.0\n",
      "        }\n",
      "    }\n",
      "}\n"
     ]
    }
   ],
   "execution_count": 139
  },
  {
   "metadata": {
    "ExecuteTime": {
     "end_time": "2024-04-07T06:59:46.895251Z",
     "start_time": "2024-04-07T06:59:46.890910Z"
    }
   },
   "cell_type": "code",
   "source": [
    "outcome_type_errors = categorize_outcome_type(evaluator)\n",
    "print(outcome_type_errors)"
   ],
   "id": "e1ce44d9474d50b",
   "outputs": [
    {
     "name": "stdout",
     "output_type": "stream",
     "text": [
      "defaultdict(<class 'list'>, {'continuous_when_binary': [458, 32, 557, 570, 681, 522, 346, 644, 271, 413, 202, 21, 353, 471, 571, 585, 352, 610, 8, 437, 91, 351, 23, 136, 682, 511, 249, 550, 347, 306, 77, 329, 67, 594, 255, 89, 487, 650, 447, 279, 222, 394, 534, 459, 201, 167, 220, 24, 393, 646, 331, 210, 330, 22, 310, 395, 117, 156, 363, 158, 33, 150, 404, 149, 223, 324, 281, 365, 11, 410, 658, 289, 419, 113, 412, 359, 51, 212, 134, 486, 209, 30, 662, 562, 674, 442, 180, 552, 103, 309, 676, 531, 629, 326, 656, 408, 468, 298, 578, 300, 639, 100, 643, 515, 147, 350, 399, 284, 569, 215, 295, 208, 368, 560, 485, 581, 533, 465, 165, 470, 205, 211, 197, 372, 403, 170, 536, 521, 694, 390, 428, 217, 448, 218, 148, 483, 506, 26, 441, 193, 73, 677, 524, 71, 383, 456, 204, 241, 371, 285, 675, 291, 196, 420, 356, 240, 213, 671, 54, 247, 606, 453, 75, 176, 323, 684, 161, 608, 443, 312, 78, 199, 545, 429, 564, 640, 274, 439, 95, 92, 27, 435, 679, 584, 99, 81, 195, 607, 31, 601, 427, 35, 146, 302, 355, 125, 162, 157, 69, 74, 566, 68, 559, 357, 526, 172, 322, 163, 214, 143, 203, 364, 303, 421, 319, 332, 360, 617, 171, 242, 398, 663, 151, 311, 455, 29, 385, 401, 573, 335, 505, 450, 488, 348, 685, 604, 582, 288, 402, 451, 321, 553, 129, 169, 444, 96, 293, 637, 440, 605, 276, 527, 239, 7, 219, 530, 525, 245, 290, 102, 599, 697, 598, 529, 446, 592, 460, 645, 273, 613, 466, 115, 70, 416, 246, 374, 664, 680, 518, 583, 206, 665, 532, 591, 114, 248, 551, 472, 445, 142, 286, 336, 597, 612, 520, 386, 603, 307, 25, 686, 615, 406, 572, 580, 327, 345, 198, 616, 144, 76, 275, 308, 504, 596, 216, 619, 387, 244, 666, 409, 119, 397, 673, 430, 519, 567, 611, 354, 490, 657, 101, 696, 558, 287, 586, 79, 436, 316, 638, 44, 461, 292, 418, 52, 528, 334, 554, 141, 140, 175, 457, 469, 415, 577, 28, 544, 6, 183, 426, 589, 678, 349, 126, 563, 207, 556, 600, 9, 179, 489, 649, 699, 630, 135, 301, 523, 434, 438, 80, 670, 110, 549, 565, 159, 620, 452, 595, 296, 693, 164, 513, 449, 555, 366, 82, 318, 454, 367, 687, 278, 72, 268, 614, 320, 432, 517, 185, 695, 590, 200, 90, 317, 407, 184, 417, 667, 661, 683, 98, 277, 221, 635, 414, 609, 97, 431, 145, 593, 514, 53, 314, 396, 411, 116, 433, 111, 692, 388, 177, 672, 392, 688, 181, 12, 328, 647, 503, 243, 618, 660, 561, 282, 267, 112, 648, 602, 160, 294, 325, 34, 698], 'unknown_when_reference_known': [634, 168, 633, 283, 668]})\n"
     ]
    }
   ],
   "execution_count": 140
  },
  {
   "metadata": {
    "ExecuteTime": {
     "end_time": "2024-04-07T06:59:47.214807Z",
     "start_time": "2024-04-07T06:59:46.897769Z"
    }
   },
   "cell_type": "code",
   "source": [
    "evaluator = MetaAnalysisTaskEvaluator('binary_outcomes', 'outputs/binary_outcomes/olmo7B_binary_outcomes_test_output_20240403-18:44:49.json', 'metrics/binary_outcomes/', None)\n",
    "evaluator.run_evaluation()"
   ],
   "id": "3c6791ed031e78c7",
   "outputs": [
    {
     "name": "stdout",
     "output_type": "stream",
     "text": [
      "Error in applying zero correction: Undefined results.\n",
      "Error in applying zero correction: Undefined results.\n",
      "Error in applying zero correction: Undefined results.\n",
      "Error in applying zero correction: Undefined results.\n",
      "Error in applying zero correction: Undefined results.\n",
      "Error in applying zero correction: Undefined results.\n",
      "Error in applying zero correction: Undefined results.\n",
      "Error in applying zero correction: Undefined results.\n",
      "Error in applying zero correction: Undefined results.\n",
      "Error parsing yaml string: intervention:\n",
      "    events: 10\n",
      "    group_size: 397intervention:\n",
      "    events: 787\n",
      "    group_size: 392\n",
      "Error parsing yaml string: intervention:\n",
      "    events: 3\n",
      "    group_size: 18intervention:\n",
      "    events: 10\n",
      "    group_size: 18\n",
      "comparator:\n",
      "    events: 6\n",
      "    group_size: 18\n",
      "Error in applying zero correction: Undefined results.\n",
      "Error in applying zero correction: Undefined results.\n",
      "Error parsing yaml string: intervention:\n",
      "    events: 9\n",
      "    group_size: 399intervention:\n",
      "    events: 9\n",
      "    group_size: 389\n",
      "comparator:\n",
      "    events: 9\n",
      "    group_size: 398\n",
      "Error in applying zero correction: Undefined results.\n",
      "Error parsing yaml string: intervention:\n",
      "    events: 74\n",
      "    group_size: 354intervention:\n",
      "    events: 354\n",
      "    group_size: 107\n",
      "comparator:\n",
      "    events: 178\n",
      "    group_size: 398\n",
      "Error parsing yaml string: intervention:\n",
      "    events: 14\n",
      "    group_size: 56intervention:\n",
      "    events: 14\n",
      "    group_size: 56\n",
      "Error in applying zero correction: Undefined results.\n",
      "Error in applying zero correction: Undefined results.\n",
      "Error in applying zero correction: Undefined results.\n",
      "Error in applying zero correction: Undefined results.\n",
      "Error in applying zero correction: Undefined results.\n",
      "Error in applying zero correction: Undefined results.\n",
      "Error parsing yaml string: intervention:\n",
      "    events: 8\n",
      "    group_size: 120\n",
      "comparator:\n",
      "    events: 120\n",
      "    group_size: 120intervention:\n",
      "    events: 8\n",
      "    group_size: 120\n",
      "Error parsing yaml string: intervention:\n",
      "    events: 5\n",
      "    group_size: 16intervention:\n",
      "    events: 5\n",
      "    group_size: 16... chc a: n/a\n",
      "Error in applying zero correction: Undefined results.\n",
      "Error in applying zero correction: Undefined results.\n",
      "Error in applying zero correction: Undefined results.\n",
      "Error in applying zero correction: Undefined results.\n",
      "Error in applying zero correction: Undefined results.\n",
      "Error in applying zero correction: Undefined results.\n",
      "Error in applying zero correction: Undefined results.\n",
      "Error parsing yaml string: intervention:\n",
      "    events: 71\n",
      "    group_size: 85\n",
      "comparator:\n",
      "    events: 84\n",
      "    group_size: 84intervention:\n",
      "    events: 7\n",
      "    group_size: 7\n",
      "Error in applying zero correction: Undefined results.\n",
      "Error in applying zero correction: Undefined results.\n",
      "Error parsing yaml string: intervention:\n",
      "  events: 238\n",
      "  group_size: 371intervention:\n",
      "  events: 238\n",
      "  group_size: 371\n",
      "Error in applying zero correction: Undefined results.\n",
      "Error in applying zero correction: Undefined results.\n",
      "Error parsing yaml string: intervention:\n",
      "  events: 2\n",
      "  group_size: 120\n",
      "comparator:\n",
      "  events: 2\n",
      "  group_size: 120intervention:\n",
      "  events: 108\n",
      "  group_size: 120\n",
      "Error in applying zero correction: Undefined results.\n",
      "Metrics for the task:\n",
      "{\n",
      "    \"number_of_model_unknowns\": {\n",
      "        \"intervention_events\": 72,\n",
      "        \"intervention_group_size\": 83,\n",
      "        \"comparator_events\": 77,\n",
      "        \"comparator_group_size\": 88,\n",
      "        \"total\": 320\n",
      "    },\n",
      "    \"number_of_reference_unknowns\": {\n",
      "        \"intervention_events\": 25,\n",
      "        \"intervention_group_size\": 3,\n",
      "        \"comparator_events\": 25,\n",
      "        \"comparator_group_size\": 3,\n",
      "        \"total\": 56\n",
      "    },\n",
      "    \"exact_match_accuracy\": {\n",
      "        \"intervention_events\": 0.08771929824561403,\n",
      "        \"intervention_group_size\": 0.14619883040935672,\n",
      "        \"comparator_events\": 0.13450292397660818,\n",
      "        \"comparator_group_size\": 0.1286549707602339,\n",
      "        \"total\": 0.0\n",
      "    },\n",
      "    \"partial_match_accuracy\": {\n",
      "        \"partial_match_accuracy_1\": 0.2807017543859649,\n",
      "        \"partial_match_accuracy_2\": 0.1871345029239766,\n",
      "        \"partial_match_accuracy_3\": 0.029239766081871343\n",
      "    },\n",
      "    \"percentage_of_computable_instances\": 0.17054263565891473,\n",
      "    \"point_estimates\": {\n",
      "        \"log_odds_ratio\": {\n",
      "            \"mean_absolute_error\": 1.066347774610942,\n",
      "            \"standard_error_of_mae\": 0.3305934049669066,\n",
      "            \"95_confidence_interval_of_mae\": [\n",
      "                0.41838470087580504,\n",
      "                1.714310848346079\n",
      "            ]\n",
      "        }\n",
      "    },\n",
      "    \"num_of_chunked_instances\": 126\n",
      "}\n"
     ]
    }
   ],
   "execution_count": 141
  },
  {
   "metadata": {
    "ExecuteTime": {
     "end_time": "2024-04-07T06:59:47.325371Z",
     "start_time": "2024-04-07T06:59:47.216392Z"
    }
   },
   "cell_type": "code",
   "source": [
    "binary_errors = categorize_outcomes(evaluator, 'binary')\n",
    "print(binary_errors)"
   ],
   "id": "3197bf13fea89e78",
   "outputs": [
    {
     "name": "stdout",
     "output_type": "stream",
     "text": [
      "defaultdict(<class 'list'>, {'unknown_output_but_reference_known': [130, 491, 10, 257, 539, 62, 61, 651, 137, 654, 362, 342, 127, 63], 'badly_formatted_output': [548, 49, 568, 50, 123, 373, 14, 384, 256, 375, 132, 43, 476, 587, 508, 173, 48, 131, 370, 297, 121, 500, 547, 155, 391, 502, 299, 15, 481, 339, 251, 45, 512, 66, 492, 252, 494, 381, 376, 46, 265, 47, 507, 380, 588, 254, 85, 475, 497, 154, 16, 389, 128, 690, 369, 382, 510, 499, 264, 379, 39, 338, 358, 341, 516, 133, 479, 337, 194, 498, 42, 541, 495, 493, 378, 87, 340, 361, 474, 477, 333, 400, 40, 496, 482, 41, 259, 344, 377, 691, 625, 124, 546, 343, 13, 478, 178, 405, 641, 153, 689, 501, 250, 174, 38, 467, 538, 84, 118, 182, 253, 266, 36, 86, 642], 'incorrect_output': [622, 633, 623, 313, 543, 535, 491, 304, 652, 93, 152, 10, 537, 108, 653, 107, 166, 258, 270, 632, 627, 624, 305, 540, 109, 138, 20, 628, 509, 272, 315, 122, 139, 94, 362, 65, 626, 631, 127, 269, 542, 64, 37, 621], 'known_output_but_reference_unknown': [473, 139, 484, 342, 64]})\n"
     ]
    }
   ],
   "execution_count": 142
  },
  {
   "metadata": {
    "ExecuteTime": {
     "end_time": "2024-04-07T06:59:48.402792Z",
     "start_time": "2024-04-07T06:59:47.326778Z"
    }
   },
   "cell_type": "code",
   "source": [
    "evaluator = MetaAnalysisTaskEvaluator('continuous_outcomes', 'outputs/continuous_outcomes/olmo7B_continuous_outcomes_test_output_20240403-21:36:24.json', 'metrics/continuous_outcomes/', None)\n",
    "evaluator.run_evaluation()"
   ],
   "id": "3322073bf1347d89",
   "outputs": [
    {
     "name": "stdout",
     "output_type": "stream",
     "text": [
      "An exception occurred for calculate standardized mean difference - intervention_mean: 0, control_mean: 0, intervention_sd: 0, control_sd: 0\n",
      "An exception occurred for calculate standardized mean difference - intervention_mean: 80).2, control_mean: 75).2, intervention_sd: 7.77, control_sd: 7.41\n",
      "Error parsing yaml string: intervention:\n",
      "     mean: 120.0\n",
      "     standard_deviation: 11.7\n",
      "     group_size: 60\n",
      "comparator:\n",
      "     mean: 88.4\n",
      "     standard_deviation: 11.8\n",
      "    group_size: 60\n",
      "Error parsing yaml string: intervention:\n",
      "     mean: 4.0\n",
      "     standard_deviation: 1.1\n",
      "     group_size: 28\n",
      "comparator:\n",
      "     mean: 11.5\n",
      "     standard_deviation: 3.3\n",
      "    group_size: 28\n",
      "Error parsing yaml string: intervention:\n",
      "    mean: 83\n",
      "    standard_deviation: 5\n",
      "    group_size: 10\n",
      "comparator:\n",
      "    mean: 74\n",
      "    standard_deviation: 5\n",
      "    group_size: 10intervention:\n",
      "    mean: 82\n",
      "    standard_deviation: 5\n",
      "    group_size: 10\n",
      "An exception occurred for calculate standardized mean difference - intervention_mean: 80).0, control_mean: 90).0, intervention_sd: 10.0, control_sd: 10.0\n",
      "An exception occurred for calculate standardized mean difference - intervention_mean: 83).0, control_mean: 74).0, intervention_sd: 5).0, control_sd: 5).0\n",
      "Error parsing yaml string: intervention:\n",
      "     mean: 123.7\n",
      "     standard_deviation: 11.6\n",
      "     group_size: 26\n",
      "comparator:\n",
      "     mean: 121.9\n",
      "     standard_deviation: 11.3\n",
      "    group_size: 27\n",
      "An exception occurred for calculate standardized mean difference - intervention_mean: 1, control_mean: 0, intervention_sd: 0, control_sd: 0\n",
      "Metrics for the task:\n",
      "{\n",
      "    \"number_of_model_unknowns\": {\n",
      "        \"intervention_mean\": 185,\n",
      "        \"intervention_standard_deviation\": 179,\n",
      "        \"intervention_group_size\": 264,\n",
      "        \"comparator_mean\": 188,\n",
      "        \"comparator_standard_deviation\": 179,\n",
      "        \"comparator_group_size\": 255,\n",
      "        \"total\": 1250\n",
      "    },\n",
      "    \"number_of_reference_unknowns\": {\n",
      "        \"intervention_mean\": 178,\n",
      "        \"intervention_standard_deviation\": 211,\n",
      "        \"intervention_group_size\": 40,\n",
      "        \"comparator_mean\": 178,\n",
      "        \"comparator_standard_deviation\": 212,\n",
      "        \"comparator_group_size\": 40,\n",
      "        \"total\": 859\n",
      "    },\n",
      "    \"exact_match_accuracy\": {\n",
      "        \"intervention_mean\": 0.21237113402061855,\n",
      "        \"intervention_standard_deviation\": 0.2907216494845361,\n",
      "        \"intervention_group_size\": 0.177319587628866,\n",
      "        \"comparator_mean\": 0.21030927835051547,\n",
      "        \"comparator_standard_deviation\": 0.26597938144329897,\n",
      "        \"comparator_group_size\": 0.1711340206185567,\n",
      "        \"total\": 0.03505154639175258\n",
      "    },\n",
      "    \"partial_match_accuracy\": {\n",
      "        \"partial_match_accuracy_1\": 0.49072164948453606,\n",
      "        \"partial_match_accuracy_2\": 0.38969072164948454,\n",
      "        \"partial_match_accuracy_3\": 0.21443298969072164,\n",
      "        \"partial_match_accuracy_4\": 0.15257731958762888,\n",
      "        \"partial_match_accuracy_5\": 0.04536082474226804\n",
      "    },\n",
      "    \"percentage_of_computable_instances\": 0.16483516483516483,\n",
      "    \"point_estimates\": {\n",
      "        \"standardized_mean_difference\": {\n",
      "            \"mean_absolute_error\": 2.042103536210533,\n",
      "            \"standard_error_of_mae\": 0.42240128196247456,\n",
      "            \"95_confidence_interval_of_mae\": [\n",
      "                1.2141970235640827,\n",
      "                2.870010048856983\n",
      "            ]\n",
      "        }\n",
      "    },\n",
      "    \"num_of_chunked_instances\": 379\n",
      "}\n"
     ]
    }
   ],
   "execution_count": 143
  },
  {
   "metadata": {
    "ExecuteTime": {
     "end_time": "2024-04-07T06:59:48.781017Z",
     "start_time": "2024-04-07T06:59:48.406350Z"
    }
   },
   "cell_type": "code",
   "source": [
    "continuous_errors = categorize_outcomes(evaluator, 'continuous')\n",
    "print(continuous_errors)"
   ],
   "id": "dfba044e31ea0171",
   "outputs": [
    {
     "name": "stdout",
     "output_type": "stream",
     "text": [
      "defaultdict(<class 'list'>, {'known_output_but_reference_unknown': [562, 322, 574, 271, 11, 471, 577, 320, 589, 472, 485, 164, 513, 564, 144, 273, 356, 571, 455, 143, 268, 685, 639, 248, 600, 104, 332, 396, 89, 563, 197, 68, 576, 468, 598, 97, 560, 561, 151, 90, 470, 644, 103, 12, 319, 321, 611, 105, 403, 575, 630, 140, 407, 515, 442, 201, 69, 533, 591, 150, 247, 590, 483, 249, 374, 565, 608, 461, 661, 148, 607, 9, 365, 511, 349, 91, 101, 106], 'badly_formatted_output': [213, 82, 663, 293, 274, 406, 635, 44, 99, 111, 216, 243, 597, 282, 634, 288, 223, 160, 78, 276, 159, 446, 211, 278, 665, 163, 172, 662, 300, 433, 204, 298, 67, 676, 167, 528, 610, 404, 156, 444, 573, 79, 129, 242, 569, 72, 295, 682, 550, 486, 336, 553, 136, 646, 402, 331, 296, 420, 545, 119, 281, 217, 244, 674, 35, 214, 280, 666, 443, 503, 636, 80, 287, 595, 602, 125, 171, 169, 601, 582, 441, 397, 371, 448, 604, 350, 695, 34, 335, 603, 566, 177, 678, 54, 449, 643, 672, 592, 354, 180, 452, 161, 645, 421, 179, 114, 205, 445, 688, 208, 289, 567, 112, 215, 33, 353, 75, 71, 291, 505, 532, 113, 367, 681, 277, 176, 606, 684, 424, 605, 398, 599, 207, 70, 275, 585, 283, 423, 149, 670, 673, 267, 162, 529, 594, 355, 612, 698, 584, 110, 212, 422, 73, 53, 134, 450, 352, 451, 218, 671, 210, 692, 372, 504, 184, 74, 221, 279, 679, 531, 664, 222, 596, 425, 158, 593, 77, 506, 530, 220, 301, 488, 647, 100, 675, 614, 52, 76, 552, 170, 447, 469, 81, 115, 426, 51, 219, 294, 98, 677, 687, 290, 583, 193, 292, 680, 549, 581, 609, 241, 453, 196, 683, 551, 558, 175, 203, 195, 30, 31, 454, 696, 527, 570, 135, 209, 239, 572, 490], 'unknown_output_but_reference_known': [92, 366, 480, 471, 544, 334, 22, 438, 554, 613, 589, 650, 351, 419, 346, 620, 418, 618, 514, 141, 436, 102, 430, 185, 302, 669, 26, 21, 417, 385, 462, 464, 181, 517, 23, 413, 240, 126, 629, 8, 520, 409, 415, 348, 312, 255, 32, 487, 686, 466, 615, 29, 142, 332, 345, 536, 526, 429, 697, 202, 399, 360, 693, 557, 465, 637, 616, 468, 285, 598, 286, 330, 386, 489, 414, 580, 523, 25, 199, 416, 357, 525, 578, 534, 151, 117, 116, 206, 470, 24, 401, 428, 644, 411, 7, 147, 648, 617, 12, 435, 649, 145, 105, 412, 575, 660, 630, 140, 555, 559, 284, 437, 699, 591, 694, 619, 463, 667, 524, 183, 311, 150, 368, 638, 590, 200, 307, 434, 374, 608, 461, 146, 607, 347, 511, 439, 28, 410, 96, 668, 198, 27], 'incorrect_output': [366, 165, 574, 271, 11, 310, 316, 334, 168, 554, 327, 306, 351, 419, 620, 430, 364, 325, 669, 21, 164, 513, 462, 656, 273, 356, 390, 522, 571, 363, 181, 240, 640, 586, 268, 685, 348, 255, 32, 639, 440, 487, 600, 29, 104, 332, 309, 429, 89, 521, 697, 197, 202, 399, 557, 68, 576, 518, 330, 246, 245, 359, 556, 432, 658, 25, 117, 116, 90, 206, 401, 6, 428, 314, 644, 103, 408, 659, 655, 611, 105, 403, 575, 328, 427, 630, 140, 326, 407, 515, 555, 559, 442, 329, 201, 533, 383, 591, 694, 667, 308, 368, 519, 483, 434, 317, 374, 461, 303, 318, 661, 148, 9, 657, 365, 511, 410, 349, 91, 431, 668, 101, 106]})\n"
     ]
    }
   ],
   "execution_count": 144
  }
 ],
 "metadata": {
  "kernelspec": {
   "display_name": "Python 3",
   "language": "python",
   "name": "python3"
  },
  "language_info": {
   "codemirror_mode": {
    "name": "ipython",
    "version": 2
   },
   "file_extension": ".py",
   "mimetype": "text/x-python",
   "name": "python",
   "nbconvert_exporter": "python",
   "pygments_lexer": "ipython2",
   "version": "2.7.6"
  }
 },
 "nbformat": 4,
 "nbformat_minor": 5
}
