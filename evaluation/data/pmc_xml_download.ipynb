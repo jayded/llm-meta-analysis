{
 "cells": [
  {
   "cell_type": "markdown",
   "metadata": {},
   "source": [
    "Code for downloading PMC xml files for the case study\n",
    "\n",
    "Cochrane Review: https://www.cochranelibrary.com/cdsr/doi/10.1002/14651858.CD014962.pub2"
   ]
  },
  {
   "cell_type": "code",
   "execution_count": 3,
   "metadata": {},
   "outputs": [],
   "source": [
    "from Bio import Entrez\n",
    "from Bio.Entrez import efetch\n",
    "Entrez.email = 'yun.hy@northeastern.edu'"
   ]
  },
  {
   "cell_type": "code",
   "execution_count": 6,
   "metadata": {},
   "outputs": [],
   "source": [
    "# download xml\n",
    "pmc_ids = [\"7262788\", \"7442954\", \"7190303\", \"7727327\"]\n",
    "\n",
    "for id in pmc_ids:\n",
    "    handle = efetch(db=\"pmc\", id=id, retmode=\"xml\")\n",
    "    xml = handle.read().decode(\"utf-8\")\n",
    "    with open(\"case_study_xml_files/PMC\" + id + \".xml\", \"w\") as f:\n",
    "        f.write(xml)\n",
    "    handle.close()"
   ]
  },
  {
   "cell_type": "markdown",
   "metadata": {},
   "source": [
    "Manually parsed the xml to only include abstract and results sections.\n",
    "This can be easily automated using the BeautifulSoup package.\n",
    "\n",
    "We also minified the xml file and removed all attributes (see `strip_attributes.ipynb`)."
   ]
  }
 ],
 "metadata": {
  "kernelspec": {
   "display_name": "llm-meta-analysis",
   "language": "python",
   "name": "python3"
  },
  "language_info": {
   "codemirror_mode": {
    "name": "ipython",
    "version": 3
   },
   "file_extension": ".py",
   "mimetype": "text/x-python",
   "name": "python",
   "nbconvert_exporter": "python",
   "pygments_lexer": "ipython3",
   "version": "3.11.7"
  }
 },
 "nbformat": 4,
 "nbformat_minor": 2
}
