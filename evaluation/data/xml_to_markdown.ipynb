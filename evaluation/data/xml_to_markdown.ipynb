{
 "cells": [
  {
   "cell_type": "markdown",
   "metadata": {},
   "source": [
    "This is the python code to convert all xml files into markdown versions using the Pandoc library.\n",
    "The actual format we convert to is \"jats\"."
   ]
  },
  {
   "cell_type": "code",
   "execution_count": 39,
   "metadata": {},
   "outputs": [],
   "source": [
    "import pypandoc\n",
    "import os\n",
    "import re"
   ]
  },
  {
   "cell_type": "code",
   "execution_count": 40,
   "metadata": {},
   "outputs": [],
   "source": [
    "def join_lines_except_table(content):\n",
    "    \"\"\"Join lines in the contents except for lines between the special string denoting table\"\"\"\n",
    "    special_string = \"::::\"\n",
    "    text_and_tables = content.split(special_string)\n",
    "    joined_lines = []\n",
    "    for text_or_table in text_and_tables:\n",
    "        text_or_table = text_or_table.strip().replace(\"\\\\\", \"\")\n",
    "        if \"table-wrap\" in text_or_table:\n",
    "            new_line = special_string + text_or_table + special_string\n",
    "        else:\n",
    "            new_line = text_or_table.replace(\"\\n\", \" \")\n",
    "            new_line = re.sub(' +', ' ', new_line)\n",
    "        joined_lines.append(new_line)\n",
    "    joined_content = \" \".join(joined_lines)\n",
    "    return joined_content"
   ]
  },
  {
   "cell_type": "code",
   "execution_count": 41,
   "metadata": {},
   "outputs": [],
   "source": [
    "def read_xml_directory(directory):\n",
    "    \"\"\" Read all the XML filenames in the directory and return a list of file names\"\"\"\n",
    "    filenames = []\n",
    "    for filename in os.listdir(directory):\n",
    "        filenames.append(filename)\n",
    "\n",
    "    return filenames"
   ]
  },
  {
   "cell_type": "code",
   "execution_count": 42,
   "metadata": {},
   "outputs": [],
   "source": [
    "def convert_xml_to_markdown(read_directory, write_directory):\n",
    "    \"\"\"Convert XML files to markdown files\"\"\"\n",
    "    for filename in read_xml_directory(read_directory):\n",
    "        doc = pypandoc.convert_file(read_directory + \"/\" + filename, \"markdown\", format=\"jats\")\n",
    "        # need to add abstract to the beginning of the file since it gets removed during conversion\n",
    "        doc = \"# Abstract\\n\\n\" + doc\n",
    "        # join lines except for table\n",
    "        doc = join_lines_except_table(doc) # some pre-processing to reduce unnecessary newlines\n",
    "        name = filename.split(\".\")[0]\n",
    "        output_file=name + \".md\"\n",
    "        with open(write_directory + \"/\" + output_file, \"w\") as f:\n",
    "            f.write(doc)"
   ]
  },
  {
   "cell_type": "code",
   "execution_count": 43,
   "metadata": {},
   "outputs": [],
   "source": [
    "import tiktoken\n",
    "\n",
    "def count_tokens(string, encoding):\n",
    "    \"\"\"Given a string, return the number of tokens in the text\"\"\"\n",
    "    return len(encoding.encode(string))\n",
    "\n",
    "def get_token_counts(directory):\n",
    "    \"\"\"Return a dictionary of token counts for each file\"\"\"\n",
    "    token_counts = {}\n",
    "    filenames = read_xml_directory(directory)\n",
    "    for filename in filenames:\n",
    "        with open(directory + \"/\" + filename, \"r\") as f:\n",
    "            pmcid = filename.split(\".\")[0].split('C')[1]\n",
    "            text = f.read()\n",
    "            encoding = tiktoken.get_encoding(\"cl100k_base\")\n",
    "            tokens = count_tokens(text, encoding)\n",
    "            token_counts[pmcid] = tokens\n",
    "    return token_counts"
   ]
  },
  {
   "cell_type": "code",
   "execution_count": 44,
   "metadata": {},
   "outputs": [],
   "source": [
    "import json\n",
    "\n",
    "def add_markdown_tokens_to_json(read_filename, output_filename, token_counts):\n",
    "    \"\"\"Add the number of tokens in the markdown files to the JSON file\"\"\"\n",
    "    # Read the file and load the JSON data\n",
    "    with open(read_filename, \"r\") as f:\n",
    "        data = json.load(f)\n",
    "\n",
    "    new_data = []\n",
    "    for example in data:\n",
    "        pmcid = str(example['pmcid'])\n",
    "        example['tiktoken_without_attributes_markdown_token_num'] = token_counts[pmcid]\n",
    "        new_data.append(example)\n",
    "\n",
    "    # save the new data\n",
    "    with open(output_filename, \"w\") as f:\n",
    "        json.dump(new_data, f)"
   ]
  },
  {
   "cell_type": "code",
   "execution_count": 45,
   "metadata": {},
   "outputs": [],
   "source": [
    "# For annotated rct dataset (xml without attributes as the base)\n",
    "\n",
    "convert_xml_to_markdown(\"no_attributes_xml_files\", \"no_attributes_markdown_files\")\n",
    "token_counts = get_token_counts(\"no_attributes_markdown_files\")\n",
    "# Specify the file path\n",
    "read_filename = \"annotated_rct_dataset.json\"\n",
    "output_filename = \"annotated_rct_dataset_with_markdown_tokens.json\"\n",
    "add_markdown_tokens_to_json(read_filename, output_filename, token_counts)\n"
   ]
  },
  {
   "cell_type": "code",
   "execution_count": 46,
   "metadata": {},
   "outputs": [
    {
     "name": "stdout",
     "output_type": "stream",
     "text": [
      "{'5773985': 1917, '3510731': 943, '5781260': 2662, '4319071': 9628, '3278655': 2857, '5541727': 4032, '4987981': 5779, '4355974': 3820, '3648394': 4261, '2681019': 543, '4511433': 2969, '4033571': 4514, '4210722': 5695, '2952311': 2143, '4709985': 2363, '3309311': 1073, '5268424': 4148, '1863515': 3103, '3496170': 1731, '4574984': 5795, '5360580': 6033, '5777645': 3738, '5534041': 4357, '4928400': 1670, '2596788': 2520, '5515881': 2868, '3321528': 2880, '5971365': 2130, '5086025': 13068, '3003523': 7520, '4323894': 2328, '5771543': 7366, '3877023': 7100, '4879328': 5640, '1574360': 1376, '4188762': 1564, '5617873': 4396, '3136370': 2937, '4483334': 1068, '5777419': 3181, '3912320': 1015, '5711682': 2966, '4678179': 5204, '3195393': 5589, '5079604': 4923, '4215531': 4156, '4541185': 907, '5380326': 4260, '1216327': 3913, '4140238': 5052, '3169777': 3326, '4357072': 1385, '5380284': 1251, '3546023': 11524, '2974815': 4469, '3508963': 1552, '5726464': 3133, '5055753': 2114, '3504298': 3331, '4411165': 2336, '5800236': 1980, '4458006': 1009, '5559992': 721, '5154016': 1642, '3751573': 3635, '4450164': 1567, '4493951': 2434, '3577738': 1653, '5459456': 5693, '4173437': 637, '4486927': 5770, '5712123': 3891, '4144850': 9179, '5976949': 2274, '4550271': 8556, '5874317': 4631, '5571493': 928, '2667135': 5529, '3343759': 2065, '3936115': 1562, '3654355': 6664, '5419060': 4155, '4675066': 4224, '4230312': 3918, '2972614': 1931, '115849': 4091, '4880652': 966, '5976307': 1751, '4996097': 2976, '5884950': 5281, '5062234': 971, '3786549': 4323, '5686687': 2366, '5244530': 4050, '4132222': 1617, '3687098': 8432, '2363753': 725, '5655920': 4026, '3475525': 3542, '3580751': 3573, '3929816': 749, '4830045': 1505, '5539943': 3578, '57750': 3265, '2430617': 3773, '4467620': 3858, '5056957': 4394, '1475568': 2573, '4183415': 5310, '5122613': 2832, '3263860': 2232, '5498715': 3973, '5614421': 8549, '3276927': 1429, '3493722': 1357, '5325897': 1703, '2836833': 5694, '5830087': 8141, '547916': 2822, '3214395': 880}\n"
     ]
    }
   ],
   "source": [
    "print(token_counts)"
   ]
  },
  {
   "cell_type": "code",
   "execution_count": 47,
   "metadata": {},
   "outputs": [
    {
     "name": "stdout",
     "output_type": "stream",
     "text": [
      "91\n",
      "9\n",
      "0\n",
      "3580.641666666667\n"
     ]
    }
   ],
   "source": [
    "print(sum(1 for value in token_counts.values() if value > 1700))\n",
    "print(sum(1 for value in token_counts.values() if value > 7500))\n",
    "print(sum(1 for value in token_counts.values() if value > 15000))\n",
    "\n",
    "total_sum = sum(value for value in token_counts.values())\n",
    "print(total_sum/len(token_counts))\n"
   ]
  },
  {
   "cell_type": "code",
   "execution_count": 48,
   "metadata": {},
   "outputs": [],
   "source": [
    "# For case study dataset (xml without attributes as the base)\n",
    "\n",
    "convert_xml_to_markdown(\"no_attributes_case_study_xml_files\", \"no_attributes_case_study_markdown_files\")\n",
    "token_counts = get_token_counts(\"no_attributes_case_study_markdown_files\")\n",
    "# Specify the file path\n",
    "read_filename = \"meta_analysis_case_study.json\"\n",
    "output_filename = \"meta_analysis_case_study_with_markdown_tokens.json\"\n",
    "add_markdown_tokens_to_json(read_filename, output_filename, token_counts)\n"
   ]
  },
  {
   "cell_type": "code",
   "execution_count": 49,
   "metadata": {},
   "outputs": [
    {
     "name": "stdout",
     "output_type": "stream",
     "text": [
      "{'7190303': 7623, '7727327': 5440, '7442954': 1036, '7262788': 7710}\n"
     ]
    }
   ],
   "source": [
    "print(token_counts)"
   ]
  },
  {
   "cell_type": "code",
   "execution_count": 50,
   "metadata": {},
   "outputs": [
    {
     "name": "stdout",
     "output_type": "stream",
     "text": [
      "3\n",
      "2\n",
      "0\n",
      "5452.25\n"
     ]
    }
   ],
   "source": [
    "print(sum(1 for value in token_counts.values() if value > 1700))\n",
    "print(sum(1 for value in token_counts.values() if value > 7500))\n",
    "print(sum(1 for value in token_counts.values() if value > 15000))\n",
    "\n",
    "total_sum = sum(value for value in token_counts.values())\n",
    "print(total_sum/len(token_counts))"
   ]
  }
 ],
 "metadata": {
  "kernelspec": {
   "display_name": "llm-meta-analysis",
   "language": "python",
   "name": "python3"
  },
  "language_info": {
   "codemirror_mode": {
    "name": "ipython",
    "version": 3
   },
   "file_extension": ".py",
   "mimetype": "text/x-python",
   "name": "python",
   "nbconvert_exporter": "python",
   "pygments_lexer": "ipython3",
   "version": "3.11.7"
  }
 },
 "nbformat": 4,
 "nbformat_minor": 2
}
