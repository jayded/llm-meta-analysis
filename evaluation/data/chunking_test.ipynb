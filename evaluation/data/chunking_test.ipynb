{
 "cells": [
  {
   "cell_type": "code",
   "execution_count": 1,
   "id": "7b02a5a4cdbe170b",
   "metadata": {
    "ExecuteTime": {
     "end_time": "2024-03-27T20:33:34.889479Z",
     "start_time": "2024-03-27T20:33:33.690674Z"
    }
   },
   "outputs": [],
   "source": [
    "import os\n",
    "from bs4 import BeautifulSoup\n",
    "from copy import deepcopy, copy\n",
    "import tiktoken\n",
    "from pprint import pprint\n",
    "from IPython.display import clear_output\n",
    "\n",
    "RAW_XML_DIR = 'abstract_and_results_xml_files'\n",
    "NO_ATTR_XML_DIR = 'no_attributes_xml_files'\n",
    "DATASET_DIR = 'annotated_rct_dataset.json'"
   ]
  },
  {
   "cell_type": "code",
   "execution_count": 2,
   "id": "173aba4fd612f7ce",
   "metadata": {
    "ExecuteTime": {
     "end_time": "2024-03-27T20:33:34.902216Z",
     "start_time": "2024-03-27T20:33:34.891232Z"
    }
   },
   "outputs": [],
   "source": [
    "def remove_html_body(soup):\n",
    "    \"\"\"\n",
    "    Remove the html and body tags from the soup object. \n",
    "    This is necessary because the lxml parser adds these tags automatically.\n",
    "    \n",
    "    Args:\n",
    "    soup: BeautifulSoup object\n",
    "\n",
    "    Returns:\n",
    "    soup: BeautifulSoup object with html and body tags removed\n",
    "    \"\"\"\n",
    "    html_tag = soup.html\n",
    "    body_tag = soup.body\n",
    "\n",
    "    # Unwrap the unnecessary tags that are added by lxml parser\n",
    "    if html_tag is not None:\n",
    "        html_tag.unwrap()\n",
    "    if body_tag is not None:\n",
    "        body_tag.unwrap()\n",
    "\n",
    "    return soup\n",
    "\n",
    "def read_xml_directory(directory):\n",
    "    \"\"\" Read all the XML files in the directory and return a dictionary with pmcid as the key and BeautifulSoup object as the value\"\"\"\n",
    "    soups = dict()\n",
    "    for filename in os.listdir(directory):\n",
    "        if filename.endswith(\".xml\"):\n",
    "            # Get the pmcid from the filename\n",
    "            pmcid = int(filename.split('.')[0].split('C')[1])\n",
    "            filepath = os.path.join(directory, filename)\n",
    "            with open(filepath, 'r') as file:\n",
    "                soup = BeautifulSoup(file.read(), 'lxml')\n",
    "\n",
    "                # Remove the html and body tags\n",
    "                remove_html_body(soup)\n",
    "\n",
    "                # Add the soup to the dictionary with pmcid as the key\n",
    "                soups[pmcid] = soup\n",
    "\n",
    "    return soups\n",
    "\n",
    "def convert_to_int(value):\n",
    "    \"\"\"Convert str value to an integer\"\"\"\n",
    "    if ',' in str(value):\n",
    "        return int(value.replace(',', ''))\n",
    "    else:\n",
    "        return int(value)\n",
    "\n",
    "def count_tokens(soup, encoding):\n",
    "    \"\"\"Given a soup object, return the number of tokens in the text\"\"\"\n",
    "    return len(encoding.encode(str(soup)))\n",
    "\n",
    "def condition():\n",
    "    \"\"\"Given a chunk of text, return True if the chunk meets the condition\"\"\"\n",
    "    \"\"\"\n",
    "    CHATGPT PROMPT:\n",
    "\n",
    "    You are an expert on medical randomized controlled trials. You are trying to extract any relevant values for meta-analysis: intervention events, intervention group size, comparator events, comparator group size, intervention mean, intervention standard deviation, comparator mean, comparator standard deviation. Output only \"y\" if any of these values exists within the given chunk, output only \"n\" if the chunk contains none of these relevant values. Do not provide any explanation\n",
    "\n",
    "    Intervention: {INTERVENTION}\n",
    "    Comparator: {COMPARATOR}\n",
    "    Outcome: {OUTCOME}\n",
    "\n",
    "    Chunk:\n",
    "    \"\"\"\n",
    "    return input('Is the model gonna return y or n (y/n) ') == 'y'\n",
    "\n",
    "def concatenate_soups(soup_list):\n",
    "    \"\"\"Concatenate a list of soup objects into a single soup object\"\"\"\n",
    "    new_soup = BeautifulSoup(\"\", 'lxml')\n",
    "    for soup in soup_list:\n",
    "        new_soup.append(copy(soup))\n",
    "    return new_soup\n",
    "\n",
    "def chunk_xml(xml_element, min_tokens, condition):\n",
    "    \"\"\"\n",
    "    Chunk the XML element into smaller parts based on the specified condition and minimum number of tokens for a valid chunk.\n",
    "    \"\"\"\n",
    "    keep_chunks = []\n",
    "\n",
    "    def process_chunk(chunk):\n",
    "        \"\"\"\n",
    "        Process a chunk: If the condition is true and chunk length is greater than min_tokens, further chunk it recursively.\n",
    "        \"\"\"\n",
    "\n",
    "        # Check if the condition is true for the chunk and chunk length is greater than min_tokens\n",
    "        chunk = deepcopy(chunk)\n",
    "        pprint(chunk)\n",
    "        relevant = condition()\n",
    "\n",
    "        is_p_tag = chunk.name == 'p'\n",
    "\n",
    "        try: is_table = 'table' in chunk.name\n",
    "        except TypeError: is_table = False\n",
    "\n",
    "        clear_output()\n",
    "\n",
    "        if (is_table and relevant) or (is_p_tag and relevant):\n",
    "            keep_chunks.append(chunk)\n",
    "\n",
    "        elif count_tokens(chunk, encoding) >= min_tokens and relevant and not is_table:\n",
    "            # Chunk it further, recursively\n",
    "            keep_chunks.extend(chunk_xml(chunk, min_tokens, condition))\n",
    "\n",
    "        # if the chunk is too small and the condition is true, keep it    \n",
    "        elif count_tokens(chunk, encoding) < min_tokens and relevant:\n",
    "            keep_chunks.extend(chunk)\n",
    "\n",
    "        # discard the chunk if the condition is false\n",
    "\n",
    "    # Iterate through the children of the XML element\n",
    "    for child in xml_element.contents:\n",
    "        # Process the chunk\n",
    "        process_chunk(child)  \n",
    "\n",
    "    # Return the list of chunks as a single soup object\n",
    "    return keep_chunks\n",
    "\n",
    "def combine_chunks(soup_list, max_length, count_tokens, encoding):\n",
    "    final_chunks = []\n",
    "    current_chunk = BeautifulSoup(\"\", 'lxml')\n",
    "    current_length = 0\n",
    "\n",
    "    for soup in soup_list:\n",
    "        soup_length = count_tokens(soup, encoding)\n",
    "        if current_length + soup_length > max_length:\n",
    "            # If adding this soup would exceed max_length, finish the current chunk\n",
    "            if current_length > 0:  # Avoid adding empty chunks\n",
    "                final_chunks.append(current_chunk)\n",
    "            # Start a new chunk with the current soup\n",
    "            current_chunk = soup\n",
    "            current_length = soup_length\n",
    "        else:\n",
    "            # If adding this soup wouldn't exceed max_length, add it to the current chunk\n",
    "            current_chunk.append(soup)\n",
    "            current_length += soup_length\n",
    "\n",
    "    # After the loop, add the last chunk if it's not empty\n",
    "    if current_length > 0:\n",
    "        final_chunks.append(current_chunk)\n",
    "\n",
    "    return final_chunks"
   ]
  },
  {
   "cell_type": "code",
   "execution_count": 46,
   "id": "f590c0c377474632",
   "metadata": {
    "collapsed": false,
    "ExecuteTime": {
     "end_time": "2024-03-27T20:48:02.550152Z",
     "start_time": "2024-03-27T20:48:01.370896Z"
    }
   },
   "outputs": [],
   "source": [
    "soups = read_xml_directory(NO_ATTR_XML_DIR)\n",
    "encoding = tiktoken.get_encoding(\"cl100k_base\")\n",
    "test_soup = soups[115849]\n",
    "print(count_tokens(test_soup, encoding))\n",
    "chunks = chunk_xml(test_soup, 250, condition)\n",
    "condensed_chunks = combine_chunks(chunks, 2000, count_tokens, encoding)"
   ]
  },
  {
   "cell_type": "code",
   "outputs": [],
   "source": [
    "def __remove_style_tags(soup: BeautifulSoup) -> BeautifulSoup:\n",
    "    \"\"\"\n",
    "    Remove the style tags from the soup object.\n",
    "    \n",
    "    Args:\n",
    "    soup: BeautifulSoup object\n",
    "    \n",
    "    Returns:\n",
    "    soup: BeautifulSoup object\n",
    "    \"\"\"\n",
    "    soup = copy(soup)\n",
    "    for tag in soup.find_all([\"sup\", \"sub\", \"italic\", \"bold\", \"underline\"]):\n",
    "        tag.unwrap()\n",
    "    return soup"
   ],
   "metadata": {
    "collapsed": false,
    "ExecuteTime": {
     "end_time": "2024-03-27T20:48:02.955411Z",
     "start_time": "2024-03-27T20:48:02.951715Z"
    }
   },
   "id": "248c7791c8018b9b",
   "execution_count": 47
  },
  {
   "cell_type": "code",
   "outputs": [
    {
     "data": {
      "text/plain": "[]"
     },
     "execution_count": 53,
     "metadata": {},
     "output_type": "execute_result"
    }
   ],
   "source": [
    "__remove_style_tags(test_soup).find_all('bold')"
   ],
   "metadata": {
    "collapsed": false,
    "ExecuteTime": {
     "end_time": "2024-03-27T23:14:18.294416Z",
     "start_time": "2024-03-27T23:14:18.248938Z"
    }
   },
   "id": "ac3e28c034c62c8e",
   "execution_count": 53
  },
  {
   "cell_type": "code",
   "execution_count": 14,
   "id": "5e19534e",
   "metadata": {},
   "outputs": [
    {
     "name": "stdout",
     "output_type": "stream",
     "text": [
      "<p>Four months after the intervention, an increase in the mean scores of total PA (p&lt;0.001, ES=4.77), physical fitness tests including flexibility (p&lt;0.001, ES=1.59), muscular endurance (p&lt;0.001, ES=2.0), cardiorespiratory endurance (p&lt;0.001, ES=0.51), and a decrease in mean scores of agility test (p&lt;0.001, ES= − 0.51) and sedentary behavior (p&lt;0.01, ES=− 0.74) was observed in the intervention group compared to the control group. The intervention group reported an increase in the scores of intrinsic motivation (p&lt;0.001, ES=3.34), identified regulation (p&lt;0.001, ES= 1.28), perceptions of competence (p&lt;0.001, ES=0.81) and autonomy (p&lt;0.001, ES=2.01), enjoyment (p&lt;0.001, ES=0.98) and health motives (p&lt;0.01, ES=0.19), health care climate (p&lt;0.001, ES=4.6), and a decreased score of external regulation (p&lt;0.01, ES=−0.55) and amotivation (p&lt;0.01, ES= −0.56) over time, compared to the control group.</p><p>Seventy women in reproductive age were randomly assigned to the randomized controlled trial. With Chi-squared test, no significant difference was observed between intervention and control groups regarding the demographic characteristics (age, educational level, job, spouse’s job) and body composition (p&gt;0.05).</p><table-wrap><label>Table 1</label><caption><p>Intervention program in MI sessions</p></caption><table><thead><tr><th>Sessions</th><th>Description of the intervention</th></tr></thead><tbody><tr><td>First session: Introducing the motivational approach, facilitators’ philosophy, and group principles-with an emphasis on the principle of avoiding the intention to reform the client</td><td>Knowing motivational approach</td></tr><tr><td>Knowing the facilitator philosophy (supporting the autonomy)</td></tr><tr><td>Determining rules and norms of the group</td></tr><tr><td>Second session: Studying a single day of subject’s life in terms of the amount of PA and the effects of physical inactivity</td><td>Increasing participants’ awareness about the quantity and quality of their PA behavior</td></tr><tr><td>Increasing participants’ awareness about the effects of physical inactivity</td></tr><tr><td>Third session: Values and negative and positive aspects-with an emphasis on the perception of client’s motivation.</td><td>Participants identify their values</td></tr><tr><td>Participants recognize how their values are in conflict with their sedentary behavior.</td></tr><tr><td>Participants recognize the positive and negative aspects of sedentary behavior.</td></tr><tr><td>Participants determine the importance and the value of positive and negative aspects</td></tr><tr><td>Fourth session: Temptation and self-confidence, goal setting and preparing for change – with an emphasis on the principle of empowering the clients</td><td>Participants become familiar with the basis of creation of temptation</td></tr><tr><td>Participants identify the situations where much temptation is created to quit the regular program of PA.</td></tr><tr><td>Participants identify situations with confidence</td></tr><tr><td>Participants learn how to set appropriate goals</td></tr><tr><td>Subjects express goals and write a change layout for its realization</td></tr></tbody></table></table-wrap>\n",
      "827\n",
      "<table-wrap><label>Table 2</label><caption><p>Comparison of SDT Components, Physical fitness tests, total PA and sedentary behaviors during the assessment process.</p></caption><table><thead><tr><th>Variables</th><th>Mean±SD of Pre-test; Intervention (control)</th><th>Mean±SD of Post-test; Intervention (control)</th><th>Mean±SD of Follow up after 4 months; Intervention (control)</th><th>p-value; Intervention<xref>1</xref> (control<xref>1</xref>)</th></tr></thead><tbody><tr><td>Intrinsic Motivation</td><td>3.03±1.47 (4.32±1.95)</td><td>10.80±2.0 (4.90±1.88)</td><td>13.50±1.79 (5.51±2.39)</td><td>&lt;0.001 (&lt;0.001)</td></tr><tr><td>Identified Regulation</td><td>6.43±2.19 (8.19±2.61)</td><td>10.66±1.72 (8.48±2.36)</td><td>12.03±1.60 (8.58±2.68)</td><td>&lt;0.001 (&gt;0.05)</td></tr><tr><td>Introjected Regulation</td><td>1.40±1.52 (2.29±1.83)</td><td>3.20±2.65 (2.93±2.23)</td><td>3.33±2.78 (3.29±1.81)</td><td>&lt;0.001 (&gt;0.05)</td></tr><tr><td>External Regulation</td><td>0.13±0.43 (0.32±0.17)</td><td>0.30±0.79 (0.38±0.98)</td><td>0.43±1.04 (1.19±1.37)</td><td>&gt;0.05 (&lt;0.001)</td></tr><tr><td>Amotivation</td><td>0.93±2.46 (0.61±1.28)</td><td>0.33±1.06 (0.70±1.24)</td><td>0.06±0.36 (0.58±0.92)</td><td>&lt;0.05 (&gt;0.05)</td></tr><tr><td>Relative Autonomy Index</td><td>4.04±0.24 (6±0.26)</td><td>11.59±0.23 (6.27±2.17)</td><td>14.25±2.35 (6.04±0.26)</td><td>&lt;0.001 (&gt;0.05)</td></tr><tr><td>Perception of Autonomy</td><td>15.60±4 (20.14±5.17)</td><td>26.60±4.43 (19.89±4.56)</td><td>30.40±2.83 (19.85±5.24)</td><td>&lt;0.001 (&gt;0.05)</td></tr><tr><td>Perception of Competence</td><td>12.20±3.66 (15.71±5.53)</td><td>13.6±3.05 (14.71±3.87)</td><td>17.20±3.46 (14.10±3.82)</td><td>&lt;0.01 (&gt;0.05)</td></tr><tr><td>Perception of Relatedness</td><td>13.36±1.01 (13±8.34)</td><td>13.10±7.38 (12.89±6.85)</td><td>15.63±7.61 (12.14±6.21)</td><td>&gt;0.05 (&gt;0.05)</td></tr><tr><td>Enjoyment motive</td><td>20±9.36 (28.28±4.75)</td><td>27.30±6.77 (26±4.68)</td><td>30±3.83 (24.89±5.20)</td><td>&lt;0.001 (&lt;0.05)</td></tr><tr><td>Appearance motive</td><td>19.80±9.44 (24.82±6.38)</td><td>20.26±8.88 (23.39±6.68)</td><td>20.96±8.40 (23.03±6.94)</td><td>&gt;0.05 (&gt;0.05)</td></tr><tr><td>Fitness/health motive</td><td>20.06±8.04 (23.92±3.36)</td><td>23.23±6.19 (23.21±3.33)</td><td>25.73±3.02 (25.32±1.10)</td><td>&lt;0.001 (&gt;0.05)</td></tr><tr><td>Challenge motive</td><td>15±7.25 (18.25±6.12)</td><td>16.80±6.34 (16.75±5.66)</td><td>17.90±5.17 (16.46±5.38)</td><td>&lt;0.001 (&gt;0.05)</td></tr><tr><td>Social motive</td><td>13.83±6.88 (13.03±4.15)</td><td>13.43±5.94 (12.60±5.49)</td><td>12.90±5.73 (12.35±5.34)</td><td>&gt;0.05 (&gt;0.05)</td></tr><tr><td>Health care climate</td><td>77.56±1.32 (72.25±1.54)</td><td>80.50±9.97 ()69.89±1.59</td><td>83.10±1.37 (69.57±1.61)</td><td>&gt;0.05 (&gt;0.05)</td></tr><tr><td>BMI</td><td>26.04±3.37 (26.44±3.59)</td><td>25.78±3.30 (26.53±3.53)</td><td>25.32±3.05 (26.59±3.53)</td><td>&lt;0.001 (&gt;0.05)</td></tr><tr><td>Flexibility</td><td>31.46±6.88 (27.35±5.95)</td><td>-</td><td>35.53±5.87 (26.83±5.47)</td><td>&lt;0.001 (&gt;0.05)</td></tr><tr><td>Muscular endurance</td><td>13.30±3.03 (12.51±3.16)</td><td>-</td><td>17.83±2.70 (12.48±2.90)</td><td>&lt;0.001 (&gt;0.05)</td></tr><tr><td>Agility</td><td>15.58±1.89 (13.78±1.17)</td><td>-</td><td>13.21±1.44 (13.80±1.14)</td><td>&lt;0.001 (&gt;0.05)</td></tr><tr><td>Cardiorespiratory endurance</td><td>36.39±3.20 (37.99±2.24)</td><td>-</td><td>39.10±2.76 (37.99±2.14)</td><td>&lt;0.001 (&gt;0.05)</td></tr><tr><td>Total Physical activity (Met-min/Week)</td><td>361.33±98.11 (477.85±108.91)</td><td>487.33±111.47 (453.57±60.87)</td><td>854±271.60 (470±80.46)</td><td>&lt;0.001 (&gt;0.05)</td></tr><tr><td>Sedentary behavior (hour/day)</td><td>5.61±2.65 (5.45±2.04)</td><td>5.28±2.34 (5.75±2.34)</td><td>4.26±1.76 (5.91±2.21)</td><td>&lt;0.001 (&lt;0.05)</td></tr></tbody></table><table-wrap-foot><fn><label>1</label><p>p-value is reported for comparison within intervention group during times;</p></fn><fn><label>2</label><p>p-value is reported for comparison within control group during times</p></fn></table-wrap-foot></table-wrap>\n",
      "2067\n"
     ]
    }
   ],
   "source": [
    "for chunk in condensed_chunks:\n",
    "    print(chunk)\n",
    "    print(count_tokens(chunk, encoding))"
   ]
  },
  {
   "cell_type": "code",
   "execution_count": 15,
   "id": "55d9d754d9e3b86a",
   "metadata": {
    "ExecuteTime": {
     "end_time": "2024-03-23T04:52:03.654074Z",
     "start_time": "2024-03-23T04:52:03.638554Z"
    },
    "collapsed": false
   },
   "outputs": [
    {
     "data": {
      "text/plain": [
       "[827, 2067]"
      ]
     },
     "execution_count": 15,
     "metadata": {},
     "output_type": "execute_result"
    }
   ],
   "source": [
    "[count_tokens(chunk, encoding) for chunk in condensed_chunks]"
   ]
  },
  {
   "cell_type": "code",
   "execution_count": 16,
   "id": "96ba7e59",
   "metadata": {},
   "outputs": [
    {
     "data": {
      "text/plain": [
       "63"
      ]
     },
     "execution_count": 16,
     "metadata": {},
     "output_type": "execute_result"
    }
   ],
   "source": [
    "count_tokens(\"\"\"Do NOT provide an explanation.\n",
    "      **QUESTION:** Is the outcome of {{outcome}} from a randomized controlled trial a binary or continuous type? \n",
    "      (A) binary\n",
    "      (B) continuous\n",
    "      (C) unknown - there is insufficient information to make any inference\n",
    "      **ANSWER:** ( \"\"\", encoding)"
   ]
  },
  {
   "cell_type": "code",
   "execution_count": 17,
   "id": "ecc735af",
   "metadata": {},
   "outputs": [
    {
     "data": {
      "text/plain": [
       "205"
      ]
     },
     "execution_count": 17,
     "metadata": {},
     "output_type": "execute_result"
    }
   ],
   "source": [
    "count_tokens(\"\"\"Article: {abstract_and_results_xml}\n",
    "\n",
    "      Based on the given trial article, produce a 2x2 contingency table in YAML format for the following Intervention, Comparator, and Outcome: \n",
    "      Intervention: {intervention}\n",
    "      Comparator: {comparator}\n",
    "      Outcome: {outcome}\n",
    "\n",
    "      The YAML format should include the fields \"events\" and \"group_size\" for only \"intervention\" and \"comparator\" but not \"outcome\". Example:\n",
    "      intervention:\n",
    "          events: NUMBER\n",
    "          group_size: NUMBER\n",
    "      comparator:\n",
    "          events: NUMBER\n",
    "          group_size: NUMBER\n",
    "\n",
    "      Only produce YAML response. Do NOT provide an explanation. If any of the numerical information is unavailable or not extractable or not easy to calculate, please say \"x\".\n",
    "      If there are numerical data for pre and post-intervention, choose the post-intervention data. If there are multiple timeframes for the outcome, choose the one closest to the outcome timepoint of interest or the very last one.\n",
    "\n",
    "      YAML:\"\"\", encoding)"
   ]
  },
  {
   "cell_type": "code",
   "execution_count": 18,
   "id": "815b9db2",
   "metadata": {},
   "outputs": [
    {
     "data": {
      "text/plain": [
       "240"
      ]
     },
     "execution_count": 18,
     "metadata": {},
     "output_type": "execute_result"
    }
   ],
   "source": [
    "count_tokens(\"\"\"Article: {abstract_and_results_xml}\n",
    "\n",
    "      Based on the given trial article, what is the table of mean outcome and standard deviation in YAML format for the following Intervention, Comparator, and Outcome?\n",
    "      Intervention: {intervention}\n",
    "      Comparator: {comparator}\n",
    "      Outcome: {outcome}\n",
    "      \n",
    "      Include the total size of each group for Intervention and Comparator. \n",
    "      The YAML format should include the fields \"mean\", \"standard_deviation\", and \"group_size\" for only \"intervention\" and \"comparator\" but not \"outcome\". Example:\n",
    "      intervention:\n",
    "          mean: NUMBER\n",
    "          standard_deviation: NUMBER\n",
    "          group_size: NUMBER\n",
    "      comparator:\n",
    "          mean: NUMBER\n",
    "          standard_deviation: NUMBER\n",
    "          group_size: NUMBER\n",
    "\n",
    "      Only produce YAML response. Do NOT provide an explanation. If any of the numerical information is unavailable or not extractable or not easy to calculate, please say \"x\".\n",
    "      If there are numerical data for pre and post-intervention, choose the post-intervention data. If there are multiple timeframes for the outcome, choose the one closest to the outcome timepoint of interest or the very last one.\n",
    "\n",
    "      YAML:\"\"\", encoding)"
   ]
  }
 ],
 "metadata": {
  "kernelspec": {
   "display_name": "Python 3 (ipykernel)",
   "language": "python",
   "name": "python3"
  },
  "language_info": {
   "codemirror_mode": {
    "name": "ipython",
    "version": 3
   },
   "file_extension": ".py",
   "mimetype": "text/x-python",
   "name": "python",
   "nbconvert_exporter": "python",
   "pygments_lexer": "ipython3",
   "version": "3.11.7"
  }
 },
 "nbformat": 4,
 "nbformat_minor": 5
}
