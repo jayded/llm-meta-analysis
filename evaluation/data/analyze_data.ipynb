{
 "cells": [
  {
   "cell_type": "code",
   "outputs": [],
   "source": [
    "import json\n",
    "import os\n",
    "from collections import Counter, defaultdict"
   ],
   "metadata": {
    "collapsed": false,
    "ExecuteTime": {
     "end_time": "2024-02-21T06:00:51.063336Z",
     "start_time": "2024-02-21T06:00:51.052949Z"
    }
   },
   "execution_count": 68
  },
  {
   "cell_type": "code",
   "execution_count": null,
   "metadata": {},
   "outputs": [],
   "source": [
    "# python script for analyzing the data\n",
    "# dataset statistics"
   ]
  },
  {
   "cell_type": "code",
   "outputs": [
    {
     "name": "stdout",
     "output_type": "stream",
     "text": [
      "Total number of PMCIDs in the dataset: 69\n"
     ]
    }
   ],
   "source": [
    "# total number of PMCIDs (meaning RCTs) in the dataset\n",
    "with open('meta_analysis_dataset.json', 'r') as f:\n",
    "    data = json.load(f)\n",
    "\n",
    "# Iterate and add all the PMCIDs to a set to get the unique PMCIDs    \n",
    "pmcids = set([record['pmcid'] for record in data])\n",
    "print(f'Total number of PMCIDs in the dataset: {len(pmcids)}')"
   ],
   "metadata": {
    "collapsed": false,
    "ExecuteTime": {
     "end_time": "2024-02-21T04:57:32.006895Z",
     "start_time": "2024-02-21T04:57:31.987570Z"
    }
   },
   "execution_count": 17
  },
  {
   "cell_type": "code",
   "outputs": [
    {
     "name": "stdout",
     "output_type": "stream",
     "text": [
      "Total number of instances in the dataset: 353\n"
     ]
    }
   ],
   "source": [
    "# total number of instances in the dataset\n",
    "print(f'Total number of instances in the dataset: {len(data)}')"
   ],
   "metadata": {
    "collapsed": false,
    "ExecuteTime": {
     "end_time": "2024-02-21T04:57:33.365435Z",
     "start_time": "2024-02-21T04:57:33.359203Z"
    }
   },
   "execution_count": 18
  },
  {
   "cell_type": "code",
   "outputs": [
    {
     "name": "stdout",
     "output_type": "stream",
     "text": [
      "Total number of PMCIDs in the dev split: 10\n",
      "Total number of PMCIDs in the test split: 59\n"
     ]
    }
   ],
   "source": [
    "# total number of PMCIDs (meaning RCTs) for each split (dev and test)\n",
    "dev_pmcids = set([record['pmcid'] for record in data if record['split'].lower() == 'dev'])\n",
    "test_pmcids = set([record['pmcid'] for record in data if record['split'].lower() == 'test'])\n",
    "print(f'Total number of PMCIDs in the dev split: {len(dev_pmcids)}')\n",
    "print(f'Total number of PMCIDs in the test split: {len(test_pmcids)}')"
   ],
   "metadata": {
    "collapsed": false,
    "ExecuteTime": {
     "end_time": "2024-02-21T04:57:35.061664Z",
     "start_time": "2024-02-21T04:57:35.051315Z"
    }
   },
   "execution_count": 19
  },
  {
   "cell_type": "code",
   "outputs": [
    {
     "name": "stdout",
     "output_type": "stream",
     "text": [
      "Total number of instances in the dev split: 39\n",
      "Total number of instances in the test split: 314\n"
     ]
    }
   ],
   "source": [
    "# total number of instances for each split (dev and test)\n",
    "dev_data = [record for record in data if record['split'].lower() == 'dev']\n",
    "test_data = [record for record in data if record['split'].lower() == 'test']\n",
    "print(f'Total number of instances in the dev split: {len(dev_data)}')\n",
    "print(f'Total number of instances in the test split: {len(test_data)}')"
   ],
   "metadata": {
    "collapsed": false,
    "ExecuteTime": {
     "end_time": "2024-02-21T04:59:07.457084Z",
     "start_time": "2024-02-21T04:59:07.451091Z"
    }
   },
   "execution_count": 21
  },
  {
   "cell_type": "code",
   "outputs": [
    {
     "name": "stdout",
     "output_type": "stream",
     "text": [
      "Total instances per class {'binary': 95, 'continuous': 258}\n"
     ]
    }
   ],
   "source": [
    "# number of instances per class (binary vs continuous)\n",
    "print('Total instances per class', dict(Counter([record['outcome_type'] for record in data])))"
   ],
   "metadata": {
    "collapsed": false,
    "ExecuteTime": {
     "end_time": "2024-02-21T05:02:02.127676Z",
     "start_time": "2024-02-21T05:02:02.119025Z"
    }
   },
   "execution_count": 32
  },
  {
   "cell_type": "code",
   "outputs": [
    {
     "name": "stdout",
     "output_type": "stream",
     "text": [
      "Total instances per class in dev split {'binary': 10, 'continuous': 29}\n",
      "Total instances per class in test split {'continuous': 229, 'binary': 85}\n"
     ]
    }
   ],
   "source": [
    "# number of instances per class (binary vs continuous) for each split\n",
    "print('Total instances per class in dev split', dict(Counter([record['outcome_type'] for record in dev_data])))\n",
    "print('Total instances per class in test split', dict(Counter([record['outcome_type'] for record in test_data])))"
   ],
   "metadata": {
    "collapsed": false,
    "ExecuteTime": {
     "end_time": "2024-02-21T05:02:16.259033Z",
     "start_time": "2024-02-21T05:02:16.253293Z"
    }
   },
   "execution_count": 33
  },
  {
   "cell_type": "code",
   "outputs": [
    {
     "data": {
      "text/plain": "False"
     },
     "execution_count": 37,
     "metadata": {},
     "output_type": "execute_result"
    }
   ],
   "source": [
    "bool(\"\")"
   ],
   "metadata": {
    "collapsed": false,
    "ExecuteTime": {
     "end_time": "2024-02-21T05:07:28.901639Z",
     "start_time": "2024-02-21T05:07:28.894270Z"
    }
   },
   "execution_count": 37
  },
  {
   "cell_type": "code",
   "outputs": [
    {
     "name": "stdout",
     "output_type": "stream",
     "text": [
      "Number of instances with enough data to calculate point estimates and variances: 201\n"
     ]
    }
   ],
   "source": [
    "# number of instances with enough data to calculate point estimates and variances\n",
    "count = 0\n",
    "        \n",
    "for record in data:\n",
    "    if record['outcome_type'] == 'continuous':\n",
    "        if record['standardized_mean_difference'] != 'cannot calculate'  and record['smd_sampling_variance'] != 'cannot calculate':\n",
    "            count += 1\n",
    "    else:\n",
    "        if record['log_odds_ratio'] != 'cannot calculate' and record['lor_sampling_variance'] != 'cannot calculate' and record['log_risk_ratio'] != 'cannot calculate' and record['lrr_sampling_variance'] != 'cannot calculate':\n",
    "            count += 1\n",
    "        \n",
    "        \n",
    "print(f'Number of instances with enough data to calculate point estimates and variances: {count}')"
   ],
   "metadata": {
    "collapsed": false,
    "ExecuteTime": {
     "end_time": "2024-02-21T05:39:31.496392Z",
     "start_time": "2024-02-21T05:39:31.491042Z"
    }
   },
   "execution_count": 43
  },
  {
   "cell_type": "code",
   "outputs": [],
   "source": [
    "def convert_to_bool(value):\n",
    "    if str(value).lower() == 'true':\n",
    "        return True\n",
    "    elif str(value).lower() == 'false':\n",
    "        return False\n",
    "    else:\n",
    "        return None"
   ],
   "metadata": {
    "collapsed": false,
    "ExecuteTime": {
     "end_time": "2024-02-21T06:17:28.644260Z",
     "start_time": "2024-02-21T06:17:28.626739Z"
    }
   },
   "execution_count": 80
  },
  {
   "cell_type": "code",
   "outputs": [
    {
     "name": "stdout",
     "output_type": "stream",
     "text": [
      "Number of RCTs with tables that are in graphic/figure format:  14\n"
     ]
    }
   ],
   "source": [
    "# number of RCTs with tables that are in graphic/figure format\n",
    "print('Number of RCTs with tables that are in graphic/figure format: ', len(set([record['pmcid'] for record in data if convert_to_bool(record['is_table_in_graphic_format'])])))"
   ],
   "metadata": {
    "collapsed": false,
    "ExecuteTime": {
     "end_time": "2024-02-21T05:46:12.370165Z",
     "start_time": "2024-02-21T05:46:12.363107Z"
    }
   },
   "execution_count": 63
  },
  {
   "cell_type": "code",
   "outputs": [],
   "source": [
    "# Convert numbers with commas to numbers\n",
    "def convert_to_int(value):\n",
    "    if ',' in str(value):\n",
    "        return int(value.replace(',', ''))\n",
    "    else:\n",
    "        return int(value)"
   ],
   "metadata": {
    "collapsed": false,
    "ExecuteTime": {
     "end_time": "2024-02-21T06:04:00.669216Z",
     "start_time": "2024-02-21T06:04:00.657433Z"
    }
   },
   "execution_count": 70
  },
  {
   "cell_type": "code",
   "outputs": [
    {
     "name": "stdout",
     "output_type": "stream",
     "text": [
      "Average number of tokens for each RCT: 7823.144927536232\n"
     ]
    }
   ],
   "source": [
    "# average number of tokens for each RCT\n",
    "tokens_map = dict()\n",
    "for record in data:\n",
    "    if record['pmcid'] not in tokens_map:\n",
    "        tokens_map[record['pmcid']] = convert_to_int(record['openai_gpt_token_num_abstract_results'])\n",
    "        \n",
    "print(f'Average number of tokens for each RCT: {sum(tokens_map.values()) / len(tokens_map)}')"
   ],
   "metadata": {
    "collapsed": false,
    "ExecuteTime": {
     "end_time": "2024-02-21T06:04:44.426237Z",
     "start_time": "2024-02-21T06:04:44.418211Z"
    }
   },
   "execution_count": 74
  },
  {
   "cell_type": "code",
   "outputs": [
    {
     "name": "stdout",
     "output_type": "stream",
     "text": [
      "Number of instances where data is found in tables:  230\n"
     ]
    }
   ],
   "source": [
    "# number of instances where important numerical data was found in tables\n",
    "print('Number of instances where data is found in tables: ', sum([1 for record in data if convert_to_bool(record[\"is_relevant_data_in_table\"])]))"
   ],
   "metadata": {
    "collapsed": false,
    "ExecuteTime": {
     "end_time": "2024-02-21T06:22:31.566155Z",
     "start_time": "2024-02-21T06:22:31.555519Z"
    }
   },
   "execution_count": 96
  },
  {
   "cell_type": "code",
   "execution_count": 97,
   "metadata": {
    "ExecuteTime": {
     "end_time": "2024-02-21T06:22:51.608795Z",
     "start_time": "2024-02-21T06:22:51.597376Z"
    }
   },
   "outputs": [],
   "source": [
    "# number of instances where important numerical data was found in the text\n",
    "# number of instances where important numerical data was found in both tables and text\n",
    "\n",
    "# any other statistics that you think would be useful"
   ]
  }
 ],
 "metadata": {
  "language_info": {
   "name": "python"
  },
  "kernelspec": {
   "name": "python3",
   "language": "python",
   "display_name": "Python 3 (ipykernel)"
  }
 },
 "nbformat": 4,
 "nbformat_minor": 2
}
