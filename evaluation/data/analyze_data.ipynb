{
 "cells": [
  {
   "cell_type": "code",
   "execution_count": null,
   "metadata": {},
   "outputs": [],
   "source": [
    "# python script for analyzing the data\n",
    "# dataset statistics"
   ]
  },
  {
   "cell_type": "code",
   "execution_count": null,
   "metadata": {},
   "outputs": [],
   "source": [
    "# total number of PMCIDs (meaning RCTs) in the dataset\n",
    "# total number of instances in the dataset\n",
    "\n",
    "# total number of PMCIDs (meaning RCTs) for each split (dev and test)\n",
    "# total number of isntances for each split (dev and test)\n",
    "\n",
    "# number of instances per class (binary vs continuous)\n",
    "# number of instances with enough data to calculate point estimates and variances\n",
    "\n",
    "# number of RCTs with tables that are in graphic/figure form\n",
    "\n",
    "# average number of tokens for each RCT\n",
    "\n",
    "# number of instances where important numerical data was found in tables\n",
    "# number of instances where imiportant numerical data was found in the text\n",
    "# number of instances where important numerical data was found in both tables and text\n",
    "\n",
    "# any other statistics that you think would be useful"
   ]
  }
 ],
 "metadata": {
  "language_info": {
   "name": "python"
  }
 },
 "nbformat": 4,
 "nbformat_minor": 2
}
