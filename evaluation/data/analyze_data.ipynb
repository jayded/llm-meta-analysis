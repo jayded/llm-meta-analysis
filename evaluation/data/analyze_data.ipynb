{
 "cells": [
  {
   "cell_type": "code",
   "execution_count": 17,
   "metadata": {
    "ExecuteTime": {
     "end_time": "2024-02-21T06:00:51.063336Z",
     "start_time": "2024-02-21T06:00:51.052949Z"
    },
    "collapsed": false
   },
   "outputs": [],
   "source": [
    "import json\n",
    "import os\n",
    "from collections import Counter, defaultdict"
   ]
  },
  {
   "cell_type": "code",
   "execution_count": 18,
   "metadata": {},
   "outputs": [],
   "source": [
    "# python script for analyzing the data\n",
    "# dataset statistics"
   ]
  },
  {
   "cell_type": "code",
   "execution_count": 19,
   "metadata": {
    "ExecuteTime": {
     "end_time": "2024-02-21T04:57:32.006895Z",
     "start_time": "2024-02-21T04:57:31.987570Z"
    },
    "collapsed": false
   },
   "outputs": [
    {
     "name": "stdout",
     "output_type": "stream",
     "text": [
      "Total number of PMCIDs in the dataset: 120\n"
     ]
    }
   ],
   "source": [
    "# total number of PMCIDs (meaning RCTs) in the dataset\n",
    "with open('annotated_rct_dataset.json', 'r', encoding='utf-8') as f:\n",
    "    data = json.load(f)\n",
    "\n",
    "# Iterate and add all the PMCIDs to a set to get the unique PMCIDs    \n",
    "pmcids = set([record['pmcid'] for record in data])\n",
    "print(f'Total number of PMCIDs in the dataset: {len(pmcids)}')"
   ]
  },
  {
   "cell_type": "code",
   "execution_count": 20,
   "metadata": {
    "ExecuteTime": {
     "end_time": "2024-02-21T04:57:33.365435Z",
     "start_time": "2024-02-21T04:57:33.359203Z"
    },
    "collapsed": false
   },
   "outputs": [
    {
     "name": "stdout",
     "output_type": "stream",
     "text": [
      "Total number of instances in the dataset: 699\n"
     ]
    }
   ],
   "source": [
    "# total number of instances in the dataset\n",
    "print(f'Total number of instances in the dataset: {len(data)}')"
   ]
  },
  {
   "cell_type": "code",
   "execution_count": 21,
   "metadata": {
    "ExecuteTime": {
     "end_time": "2024-02-21T04:57:35.061664Z",
     "start_time": "2024-02-21T04:57:35.051315Z"
    },
    "collapsed": false
   },
   "outputs": [
    {
     "name": "stdout",
     "output_type": "stream",
     "text": [
      "Total number of PMCIDs in the dev split: 10\n",
      "Total number of PMCIDs in the test split: 110\n"
     ]
    }
   ],
   "source": [
    "# total number of PMCIDs (meaning RCTs) for each split (dev and test)\n",
    "dev_pmcids = set([record['pmcid'] for record in data if record['split'].lower() == 'dev'])\n",
    "test_pmcids = set([record['pmcid'] for record in data if record['split'].lower() == 'test'])\n",
    "print(f'Total number of PMCIDs in the dev split: {len(dev_pmcids)}')\n",
    "print(f'Total number of PMCIDs in the test split: {len(test_pmcids)}')"
   ]
  },
  {
   "cell_type": "code",
   "execution_count": 22,
   "metadata": {
    "ExecuteTime": {
     "end_time": "2024-02-21T04:59:07.457084Z",
     "start_time": "2024-02-21T04:59:07.451091Z"
    },
    "collapsed": false
   },
   "outputs": [
    {
     "name": "stdout",
     "output_type": "stream",
     "text": [
      "Total number of instances in the dev split: 43\n",
      "Total number of instances in the test split: 656\n"
     ]
    }
   ],
   "source": [
    "# total number of instances for each split (dev and test)\n",
    "dev_data = [record for record in data if record['split'].lower() == 'dev']\n",
    "test_data = [record for record in data if record['split'].lower() == 'test']\n",
    "print(f'Total number of instances in the dev split: {len(dev_data)}')\n",
    "print(f'Total number of instances in the test split: {len(test_data)}')"
   ]
  },
  {
   "cell_type": "code",
   "execution_count": 23,
   "metadata": {
    "ExecuteTime": {
     "end_time": "2024-02-21T05:02:02.127676Z",
     "start_time": "2024-02-21T05:02:02.119025Z"
    },
    "collapsed": false
   },
   "outputs": [
    {
     "name": "stdout",
     "output_type": "stream",
     "text": [
      "Total instances per class {'binary': 182, 'continuous': 517}\n"
     ]
    }
   ],
   "source": [
    "# number of instances per class (binary vs continuous)\n",
    "print('Total instances per class', dict(Counter([record['outcome_type'] for record in data])))"
   ]
  },
  {
   "cell_type": "code",
   "execution_count": 24,
   "metadata": {
    "ExecuteTime": {
     "end_time": "2024-02-21T05:02:16.259033Z",
     "start_time": "2024-02-21T05:02:16.253293Z"
    },
    "collapsed": false
   },
   "outputs": [
    {
     "name": "stdout",
     "output_type": "stream",
     "text": [
      "Total instances per class in dev split {'binary': 11, 'continuous': 32}\n",
      "Total instances per class in test split {'continuous': 485, 'binary': 171}\n"
     ]
    }
   ],
   "source": [
    "# number of instances per class (binary vs continuous) for each split\n",
    "print('Total instances per class in dev split', dict(Counter([record['outcome_type'] for record in dev_data])))\n",
    "print('Total instances per class in test split', dict(Counter([record['outcome_type'] for record in test_data])))"
   ]
  },
  {
   "cell_type": "code",
   "execution_count": 25,
   "metadata": {
    "ExecuteTime": {
     "end_time": "2024-02-21T05:07:28.901639Z",
     "start_time": "2024-02-21T05:07:28.894270Z"
    },
    "collapsed": false
   },
   "outputs": [
    {
     "data": {
      "text/plain": [
       "False"
      ]
     },
     "execution_count": 25,
     "metadata": {},
     "output_type": "execute_result"
    }
   ],
   "source": [
    "bool(\"\")"
   ]
  },
  {
   "cell_type": "code",
   "execution_count": 26,
   "metadata": {
    "ExecuteTime": {
     "end_time": "2024-02-21T05:39:31.496392Z",
     "start_time": "2024-02-21T05:39:31.491042Z"
    },
    "collapsed": false
   },
   "outputs": [
    {
     "name": "stdout",
     "output_type": "stream",
     "text": [
      "Number of instances with enough data to calculate point estimates and variances: 446\n"
     ]
    }
   ],
   "source": [
    "# number of instances with enough data to calculate point estimates and variances\n",
    "count = 0\n",
    "        \n",
    "for record in data:\n",
    "    if record['outcome_type'] == 'continuous':\n",
    "        if record['standardized_mean_difference'] != 'cannot calculate'  and record['smd_sampling_variance'] != 'cannot calculate':\n",
    "            count += 1\n",
    "    else:\n",
    "        if record['log_odds_ratio'] != 'cannot calculate' and record['lor_sampling_variance'] != 'cannot calculate' and record['log_risk_ratio'] != 'cannot calculate' and record['lrr_sampling_variance'] != 'cannot calculate':\n",
    "            count += 1\n",
    "        \n",
    "        \n",
    "print(f'Number of instances with enough data to calculate point estimates and variances: {count}')"
   ]
  },
  {
   "cell_type": "code",
   "execution_count": 27,
   "metadata": {
    "ExecuteTime": {
     "end_time": "2024-02-21T06:17:28.644260Z",
     "start_time": "2024-02-21T06:17:28.626739Z"
    },
    "collapsed": false
   },
   "outputs": [],
   "source": [
    "def convert_to_bool(value):\n",
    "    if str(value).lower() == 'true':\n",
    "        return True\n",
    "    elif str(value).lower() == 'false':\n",
    "        return False\n",
    "    else:\n",
    "        return None"
   ]
  },
  {
   "cell_type": "code",
   "execution_count": 28,
   "metadata": {
    "ExecuteTime": {
     "end_time": "2024-02-21T05:46:12.370165Z",
     "start_time": "2024-02-21T05:46:12.363107Z"
    },
    "collapsed": false
   },
   "outputs": [
    {
     "name": "stdout",
     "output_type": "stream",
     "text": [
      "Number of RCTs with tables that are in graphic/figure format:  20\n"
     ]
    }
   ],
   "source": [
    "# number of RCTs with tables that are in graphic/figure format\n",
    "print('Number of RCTs with tables that are in graphic/figure format: ', len(set([record['pmcid'] for record in data if convert_to_bool(record['is_table_in_graphic_format'])])))"
   ]
  },
  {
   "cell_type": "code",
   "execution_count": 29,
   "metadata": {
    "ExecuteTime": {
     "end_time": "2024-02-21T06:04:00.669216Z",
     "start_time": "2024-02-21T06:04:00.657433Z"
    },
    "collapsed": false
   },
   "outputs": [],
   "source": [
    "# Convert numbers with commas to numbers\n",
    "def convert_to_int(value):\n",
    "    if ',' in str(value):\n",
    "        return int(value.replace(',', ''))\n",
    "    else:\n",
    "        return int(value)"
   ]
  },
  {
   "cell_type": "code",
   "execution_count": 30,
   "metadata": {
    "ExecuteTime": {
     "end_time": "2024-02-21T06:04:44.426237Z",
     "start_time": "2024-02-21T06:04:44.418211Z"
    },
    "collapsed": false
   },
   "outputs": [
    {
     "name": "stdout",
     "output_type": "stream",
     "text": [
      "Average number of tokens for each RCT: 7606.283333333334\n"
     ]
    }
   ],
   "source": [
    "# average number of tokens for each RCT\n",
    "tokens_map = dict()\n",
    "for record in data:\n",
    "    if record['pmcid'] not in tokens_map:\n",
    "        tokens_map[record['pmcid']] = convert_to_int(record['openai_gpt_token_num_abstract_results'])\n",
    "        \n",
    "print(f'Average number of tokens for each RCT: {sum(tokens_map.values()) / len(tokens_map)}')"
   ]
  },
  {
   "cell_type": "code",
   "execution_count": 31,
   "metadata": {
    "ExecuteTime": {
     "end_time": "2024-02-21T06:22:31.566155Z",
     "start_time": "2024-02-21T06:22:31.555519Z"
    },
    "collapsed": false
   },
   "outputs": [
    {
     "name": "stdout",
     "output_type": "stream",
     "text": [
      "Number of instances where data is found in tables:  471\n"
     ]
    }
   ],
   "source": [
    "# number of instances where important numerical data was found in tables\n",
    "print('Number of instances where data is found in tables: ', sum([1 for record in data if convert_to_bool(record[\"is_relevant_data_in_table\"])]))"
   ]
  },
  {
   "cell_type": "code",
   "execution_count": 32,
   "metadata": {
    "ExecuteTime": {
     "end_time": "2024-02-21T06:22:51.608795Z",
     "start_time": "2024-02-21T06:22:51.597376Z"
    }
   },
   "outputs": [],
   "source": [
    "# number of instances where important numerical data was found in the text\n",
    "# number of instances where important numerical data was found in both tables and text\n",
    "\n",
    "# any other statistics that you think would be useful"
   ]
  }
 ],
 "metadata": {
  "kernelspec": {
   "display_name": "Python 3 (ipykernel)",
   "language": "python",
   "name": "python3"
  },
  "language_info": {
   "codemirror_mode": {
    "name": "ipython",
    "version": 3
   },
   "file_extension": ".py",
   "mimetype": "text/x-python",
   "name": "python",
   "nbconvert_exporter": "python",
   "pygments_lexer": "ipython3",
   "version": "3.11.7"
  }
 },
 "nbformat": 4,
 "nbformat_minor": 2
}
