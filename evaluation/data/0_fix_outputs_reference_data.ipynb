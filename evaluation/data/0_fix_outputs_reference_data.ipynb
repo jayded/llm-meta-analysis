{
 "cells": [
  {
   "cell_type": "code",
   "execution_count": 1,
   "metadata": {},
   "outputs": [],
   "source": [
    "import glob"
   ]
  },
  {
   "cell_type": "code",
   "execution_count": 2,
   "metadata": {},
   "outputs": [
    {
     "name": "stdout",
     "output_type": "stream",
     "text": [
      "['../outputs/binary_outcomes/biomistral_binary_outcomes_test_output_20240403-13:07:52.json', '../outputs/binary_outcomes/olmo7B_binary_outcomes_test_output_20240403-18:44:49.json', '../outputs/binary_outcomes/gpt4_binary_outcomes_test_output_20240403-12:51:38.json', '../outputs/binary_outcomes/pmc-llama_binary_outcomes_test_output_20240404-07:06:18.json', '../outputs/binary_outcomes/mistral7B_binary_outcomes_test_output_20240403-16:03:23.json', '../outputs/binary_outcomes/gemma7B_binary_outcomes_test_output_20240403-13:36:04.json', '../outputs/binary_outcomes/gpt35_binary_outcomes_test_output_20240403-12:38:47.json']\n",
      "7\n"
     ]
    }
   ],
   "source": [
    "binary_outcomes_json_files = glob.glob('../outputs/binary_outcomes/*.json')\n",
    "print(binary_outcomes_json_files)\n",
    "print(len(binary_outcomes_json_files))"
   ]
  },
  {
   "cell_type": "code",
   "execution_count": 3,
   "metadata": {},
   "outputs": [
    {
     "name": "stdout",
     "output_type": "stream",
     "text": [
      "['../outputs/continuous_outcomes/pmc-llama_continuous_outcomes_test_output_20240403-17:54:04.json', '../outputs/continuous_outcomes/gpt35_continuous_outcomes_test_output_20240403-13:10:49.json', '../outputs/continuous_outcomes/gpt4_continuous_outcomes_test_output_20240403-14:06:53.json', '../outputs/continuous_outcomes/olmo7B_continuous_outcomes_test_output_20240403-21:36:24.json', '../outputs/continuous_outcomes/biomistral_continuous_outcomes_test_output_20240403-15:29:53.json', '../outputs/continuous_outcomes/gemma7B_continuous_outcomes_test_output_20240403-14:40:46.json', '../outputs/continuous_outcomes/mistral7B_continuous_outcomes_test_output_20240403-17:59:45.json']\n",
      "7\n"
     ]
    }
   ],
   "source": [
    "continuous_outcomes_json_files = glob.glob('../outputs/continuous_outcomes/*.json')\n",
    "print(continuous_outcomes_json_files)\n",
    "print(len(continuous_outcomes_json_files))"
   ]
  },
  {
   "cell_type": "code",
   "execution_count": 4,
   "metadata": {},
   "outputs": [
    {
     "name": "stdout",
     "output_type": "stream",
     "text": [
      "['../outputs/outcome_type/gemma7B_outcome_type_test_output_20240326-12:00:55.json', '../outputs/outcome_type/mistral7B_outcome_type_test_output_20240326-11:34:50.json', '../outputs/outcome_type/pmc-llama_outcome_type_test_output_20240326-14:21:40.json', '../outputs/outcome_type/gpt35_outcome_type_test_output_20240326-11:38:47.json', '../outputs/outcome_type/gpt4_outcome_type_dev_output_20240325-11:09:42.json', '../outputs/outcome_type/olmo7B_outcome_type_test_output_20240326-12:06:30.json', '../outputs/outcome_type/biomistral_outcome_type_test_output_20240326-11:28:52.json', '../outputs/outcome_type/gpt4_outcome_type_test_output_20240325-11:55:44.json']\n",
      "8\n"
     ]
    }
   ],
   "source": [
    "outcome_type_json_files = glob.glob('../outputs/outcome_type/*.json')\n",
    "print(outcome_type_json_files)\n",
    "print(len(outcome_type_json_files))"
   ]
  },
  {
   "cell_type": "code",
   "execution_count": 5,
   "metadata": {},
   "outputs": [],
   "source": [
    "fields_to_remove = [\n",
    "    \"standardized_mean_difference\",\n",
    "    \"smd_sampling_variance\",\n",
    "    \"log_odds_ratio\",\n",
    "    \"lor_sampling_variance\",\n",
    "    \"log_risk_ratio\",\n",
    "    \"lrr_sampling_variance\"\n",
    "]"
   ]
  },
  {
   "cell_type": "code",
   "execution_count": 6,
   "metadata": {},
   "outputs": [],
   "source": [
    "import json\n",
    "\n",
    "def remove_fields_from_json_file(files, fields):\n",
    "    # Iterate over each file in binary_outcomes_json_files\n",
    "    for file in files:\n",
    "        # Read the contents of the file\n",
    "        with open(file, 'r') as f:\n",
    "            data = json.load(f)\n",
    "        \n",
    "        # Remove the specified fields from each JSON object\n",
    "        for sample in data:\n",
    "            for field in fields:\n",
    "                sample.pop(field, None)\n",
    "        \n",
    "        # Save the modified JSON objects back to the same file\n",
    "        with open(file, 'w') as f:\n",
    "            json.dump(data, f, indent=4)\n",
    "\n",
    "remove_fields_from_json_file(binary_outcomes_json_files, fields_to_remove)\n",
    "remove_fields_from_json_file(continuous_outcomes_json_files, fields_to_remove)\n",
    "remove_fields_from_json_file(outcome_type_json_files, fields_to_remove)\n"
   ]
  },
  {
   "cell_type": "code",
   "execution_count": 7,
   "metadata": {},
   "outputs": [],
   "source": [
    "import json\n",
    "\n",
    "def replace_field_values_in_json_file(files):\n",
    "    # Iterate over each file in binary_outcomes_json_files\n",
    "    for file in files:\n",
    "        # Read the contents of the file\n",
    "        with open(file, 'r') as f:\n",
    "            data = json.load(f)\n",
    "        \n",
    "        # Read the contents of annotated_rct_dataset.json\n",
    "        with open(\"annotated_rct_dataset.json\", 'r') as f:\n",
    "            annotated_data = json.load(f)\n",
    "        \n",
    "        # Iterate over each JSON object\n",
    "        for sample in data:\n",
    "            for anno in annotated_data:\n",
    "                if sample.get(\"id\") == anno.get(\"id\"):\n",
    "                    # Replace the fields in the JSON object\n",
    "                    for field in anno:\n",
    "                        sample[field] = anno[field]\n",
    "        \n",
    "        # Save the modified JSON objects back to the same file\n",
    "        with open(file, 'w') as f:\n",
    "            json.dump(data, f, indent=4)\n"
   ]
  },
  {
   "cell_type": "code",
   "execution_count": 8,
   "metadata": {},
   "outputs": [],
   "source": [
    "replace_field_values_in_json_file(binary_outcomes_json_files)\n",
    "replace_field_values_in_json_file(continuous_outcomes_json_files)\n",
    "replace_field_values_in_json_file(outcome_type_json_files)"
   ]
  }
 ],
 "metadata": {
  "kernelspec": {
   "display_name": "llm-meta-analysis",
   "language": "python",
   "name": "python3"
  },
  "language_info": {
   "codemirror_mode": {
    "name": "ipython",
    "version": 3
   },
   "file_extension": ".py",
   "mimetype": "text/x-python",
   "name": "python",
   "nbconvert_exporter": "python",
   "pygments_lexer": "ipython3",
   "version": "3.11.7"
  }
 },
 "nbformat": 4,
 "nbformat_minor": 2
}
