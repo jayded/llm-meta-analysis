{
 "cells": [
  {
   "cell_type": "markdown",
   "id": "c0751f0e",
   "metadata": {},
   "source": [
    "This is python code to strip all attributes from PMC XML files"
   ]
  },
  {
   "cell_type": "code",
   "execution_count": 1,
   "id": "initial_id",
   "metadata": {
    "ExecuteTime": {
     "end_time": "2024-03-23T01:47:27.208424Z",
     "start_time": "2024-03-23T01:47:27.204604Z"
    },
    "collapsed": true
   },
   "outputs": [],
   "source": [
    "from bs4 import BeautifulSoup\n",
    "import os\n",
    "from copy import deepcopy\n",
    "\n",
    "OLD_XML_DIR = 'abstract_and_results_xml_files'\n",
    "NEW_XML_DIR = 'no_attributes_xml_files'\n",
    "\n",
    "RAW_CASE_STUDY_XML_DIR = 'case_study_xml_files'\n",
    "NO_ATTR_CASE_STUDY_XML_DIR = 'no_attributes_case_study_xml_files'"
   ]
  },
  {
   "cell_type": "code",
   "execution_count": 2,
   "id": "dbea4f5278d8dec",
   "metadata": {
    "ExecuteTime": {
     "end_time": "2024-03-23T01:43:01.844261Z",
     "start_time": "2024-03-23T01:43:01.839989Z"
    },
    "collapsed": false
   },
   "outputs": [],
   "source": [
    "def remove_html_body(soup):\n",
    "    \"\"\"Given a BeautifulSoup object, remove the html and body tags\"\"\"\n",
    "    html_tag = soup.html\n",
    "    body_tag = soup.body\n",
    "    \n",
    "    # Unwrap the tags that are added by lxml\n",
    "    if html_tag is not None:\n",
    "        html_tag.unwrap()\n",
    "    if body_tag is not None:\n",
    "        body_tag.unwrap()\n",
    "        \n",
    "    return soup"
   ]
  },
  {
   "cell_type": "code",
   "execution_count": 3,
   "id": "9db7d7beb3df50f6",
   "metadata": {
    "ExecuteTime": {
     "end_time": "2024-03-23T01:49:53.572753Z",
     "start_time": "2024-03-23T01:49:53.568484Z"
    },
    "collapsed": false
   },
   "outputs": [],
   "source": [
    "def remove_all_attributes(soup):\n",
    "    \"\"\"Given a BeautifulSoup object, remove all the attributes from the tags.\"\"\"\n",
    "    new_soup = deepcopy(soup)\n",
    "    # Iterate over all tags in the soup\n",
    "    for tag in new_soup.find_all(True):\n",
    "        # Clear all the attributes\n",
    "        tag.attrs = {}\n",
    "    return new_soup"
   ]
  },
  {
   "cell_type": "code",
   "execution_count": 5,
   "id": "45358bb286a45b1d",
   "metadata": {
    "ExecuteTime": {
     "end_time": "2024-03-23T01:49:55.448184Z",
     "start_time": "2024-03-23T01:49:55.442842Z"
    },
    "collapsed": false
   },
   "outputs": [],
   "source": [
    "def clean_xml_directory(from_directory, to_directory):\n",
    "    \"\"\"Given a directory of XML files, remove all the attributes from the tags and save the new files in a new directory.\"\"\"\n",
    "    # BeautifulSoup objects for each XML file\n",
    "    for filename in os.listdir(from_directory):\n",
    "        if filename.endswith(\".xml\"):\n",
    "            # Get the pmcid from the filename\n",
    "            pmcid = int(filename.split('.')[0].split('C')[1])\n",
    "            filepath = os.path.join(from_directory, filename)\n",
    "            with open(filepath, 'r') as file:\n",
    "                soup = BeautifulSoup(file.read(), 'lxml')\n",
    "                \n",
    "                remove_html_body(soup)\n",
    "                \n",
    "                # Remove all attributes from the tags\n",
    "            new_soup = remove_all_attributes(soup)\n",
    "            with open(f'{to_directory}/PMC{pmcid}.xml', 'w') as file:\n",
    "                file.write(str(new_soup))"
   ]
  },
  {
   "cell_type": "code",
   "execution_count": 12,
   "id": "6cae1f4cd0277a55",
   "metadata": {
    "ExecuteTime": {
     "end_time": "2024-03-23T01:50:02.437484Z",
     "start_time": "2024-03-23T01:49:56.396348Z"
    },
    "collapsed": false
   },
   "outputs": [],
   "source": [
    "clean_xml_directory(OLD_XML_DIR, NEW_XML_DIR)"
   ]
  },
  {
   "cell_type": "code",
   "execution_count": 6,
   "id": "ebe0b577",
   "metadata": {},
   "outputs": [],
   "source": [
    "clean_xml_directory(RAW_CASE_STUDY_XML_DIR, NO_ATTR_CASE_STUDY_XML_DIR)"
   ]
  }
 ],
 "metadata": {
  "kernelspec": {
   "display_name": "Python 3",
   "language": "python",
   "name": "python3"
  },
  "language_info": {
   "codemirror_mode": {
    "name": "ipython",
    "version": 3
   },
   "file_extension": ".py",
   "mimetype": "text/x-python",
   "name": "python",
   "nbconvert_exporter": "python",
   "pygments_lexer": "ipython3",
   "version": "3.11.7"
  }
 },
 "nbformat": 4,
 "nbformat_minor": 5
}
